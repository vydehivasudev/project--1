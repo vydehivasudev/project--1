{
 "cells": [
  {
   "cell_type": "markdown",
   "id": "101d972e",
   "metadata": {},
   "source": [
    "# PROJECT TEAM ID - PTID-CDS-NOV-23-1700\n",
    "# CAPSTONE PROJECT 1 - PRCP-1025 - FLIGHT PRICE PREDICTION\n"
   ]
  },
  {
   "cell_type": "markdown",
   "id": "8f0b4a17",
   "metadata": {},
   "source": [
    "# 1. Problem Statement"
   ]
  },
  {
   "cell_type": "markdown",
   "id": "5f60da82",
   "metadata": {},
   "source": [
    "* Flight ticket prices can be something hard to guess, today we might see a price, check out the price of the same flight tomorrow, it will be a different story.\n",
    "\n",
    "\n",
    "* We might have often heard travelers saying that flight ticket prices are so unpredictable.\n",
    "\n",
    "* That’s why we will try to use machine learning to solve this problem.\n",
    "\n",
    "* This can help airlines by predicting what prices they can maintain.\n",
    "\n",
    "Task 1:-Prepare a complete data analysis report on the given data.\n",
    "\n",
    "Task 2:-Create a predictive model which will help the customers to predict future flight prices and plan their journey accordingly."
   ]
  },
  {
   "cell_type": "markdown",
   "id": "8f0d9c0b",
   "metadata": {},
   "source": [
    "# 2. Import basic libraries\n"
   ]
  },
  {
   "cell_type": "code",
   "execution_count": 1,
   "id": "8bd9cc81",
   "metadata": {},
   "outputs": [],
   "source": [
    "import pandas as pd\n",
    "import numpy as np\n",
    "import seaborn as sns\n",
    "import matplotlib.pyplot as plt\n",
    "%matplotlib inline\n",
    "import warnings\n",
    "warnings.filterwarnings('ignore')"
   ]
  },
  {
   "cell_type": "markdown",
   "id": "566ee696",
   "metadata": {},
   "source": [
    "# 3. Load Data\n"
   ]
  },
  {
   "cell_type": "code",
   "execution_count": 2,
   "id": "431e0b2d",
   "metadata": {},
   "outputs": [
    {
     "data": {
      "text/html": [
       "<div>\n",
       "<style scoped>\n",
       "    .dataframe tbody tr th:only-of-type {\n",
       "        vertical-align: middle;\n",
       "    }\n",
       "\n",
       "    .dataframe tbody tr th {\n",
       "        vertical-align: top;\n",
       "    }\n",
       "\n",
       "    .dataframe thead th {\n",
       "        text-align: right;\n",
       "    }\n",
       "</style>\n",
       "<table border=\"1\" class=\"dataframe\">\n",
       "  <thead>\n",
       "    <tr style=\"text-align: right;\">\n",
       "      <th></th>\n",
       "      <th>Airline</th>\n",
       "      <th>Date_of_Journey</th>\n",
       "      <th>Source</th>\n",
       "      <th>Destination</th>\n",
       "      <th>Route</th>\n",
       "      <th>Dep_Time</th>\n",
       "      <th>Arrival_Time</th>\n",
       "      <th>Duration</th>\n",
       "      <th>Total_Stops</th>\n",
       "      <th>Additional_Info</th>\n",
       "      <th>Price</th>\n",
       "    </tr>\n",
       "  </thead>\n",
       "  <tbody>\n",
       "    <tr>\n",
       "      <th>0</th>\n",
       "      <td>IndiGo</td>\n",
       "      <td>24/03/2019</td>\n",
       "      <td>Banglore</td>\n",
       "      <td>New Delhi</td>\n",
       "      <td>BLR → DEL</td>\n",
       "      <td>22:20</td>\n",
       "      <td>01:10 22 Mar</td>\n",
       "      <td>2h 50m</td>\n",
       "      <td>non-stop</td>\n",
       "      <td>No info</td>\n",
       "      <td>3897</td>\n",
       "    </tr>\n",
       "    <tr>\n",
       "      <th>1</th>\n",
       "      <td>Air India</td>\n",
       "      <td>1/05/2019</td>\n",
       "      <td>Kolkata</td>\n",
       "      <td>Banglore</td>\n",
       "      <td>CCU → IXR → BBI → BLR</td>\n",
       "      <td>05:50</td>\n",
       "      <td>13:15</td>\n",
       "      <td>7h 25m</td>\n",
       "      <td>2 stops</td>\n",
       "      <td>No info</td>\n",
       "      <td>7662</td>\n",
       "    </tr>\n",
       "    <tr>\n",
       "      <th>2</th>\n",
       "      <td>Jet Airways</td>\n",
       "      <td>9/06/2019</td>\n",
       "      <td>Delhi</td>\n",
       "      <td>Cochin</td>\n",
       "      <td>DEL → LKO → BOM → COK</td>\n",
       "      <td>09:25</td>\n",
       "      <td>04:25 10 Jun</td>\n",
       "      <td>19h</td>\n",
       "      <td>2 stops</td>\n",
       "      <td>No info</td>\n",
       "      <td>13882</td>\n",
       "    </tr>\n",
       "    <tr>\n",
       "      <th>3</th>\n",
       "      <td>IndiGo</td>\n",
       "      <td>12/05/2019</td>\n",
       "      <td>Kolkata</td>\n",
       "      <td>Banglore</td>\n",
       "      <td>CCU → NAG → BLR</td>\n",
       "      <td>18:05</td>\n",
       "      <td>23:30</td>\n",
       "      <td>5h 25m</td>\n",
       "      <td>1 stop</td>\n",
       "      <td>No info</td>\n",
       "      <td>6218</td>\n",
       "    </tr>\n",
       "    <tr>\n",
       "      <th>4</th>\n",
       "      <td>IndiGo</td>\n",
       "      <td>01/03/2019</td>\n",
       "      <td>Banglore</td>\n",
       "      <td>New Delhi</td>\n",
       "      <td>BLR → NAG → DEL</td>\n",
       "      <td>16:50</td>\n",
       "      <td>21:35</td>\n",
       "      <td>4h 45m</td>\n",
       "      <td>1 stop</td>\n",
       "      <td>No info</td>\n",
       "      <td>13302</td>\n",
       "    </tr>\n",
       "    <tr>\n",
       "      <th>...</th>\n",
       "      <td>...</td>\n",
       "      <td>...</td>\n",
       "      <td>...</td>\n",
       "      <td>...</td>\n",
       "      <td>...</td>\n",
       "      <td>...</td>\n",
       "      <td>...</td>\n",
       "      <td>...</td>\n",
       "      <td>...</td>\n",
       "      <td>...</td>\n",
       "      <td>...</td>\n",
       "    </tr>\n",
       "    <tr>\n",
       "      <th>10678</th>\n",
       "      <td>Air Asia</td>\n",
       "      <td>9/04/2019</td>\n",
       "      <td>Kolkata</td>\n",
       "      <td>Banglore</td>\n",
       "      <td>CCU → BLR</td>\n",
       "      <td>19:55</td>\n",
       "      <td>22:25</td>\n",
       "      <td>2h 30m</td>\n",
       "      <td>non-stop</td>\n",
       "      <td>No info</td>\n",
       "      <td>4107</td>\n",
       "    </tr>\n",
       "    <tr>\n",
       "      <th>10679</th>\n",
       "      <td>Air India</td>\n",
       "      <td>27/04/2019</td>\n",
       "      <td>Kolkata</td>\n",
       "      <td>Banglore</td>\n",
       "      <td>CCU → BLR</td>\n",
       "      <td>20:45</td>\n",
       "      <td>23:20</td>\n",
       "      <td>2h 35m</td>\n",
       "      <td>non-stop</td>\n",
       "      <td>No info</td>\n",
       "      <td>4145</td>\n",
       "    </tr>\n",
       "    <tr>\n",
       "      <th>10680</th>\n",
       "      <td>Jet Airways</td>\n",
       "      <td>27/04/2019</td>\n",
       "      <td>Banglore</td>\n",
       "      <td>Delhi</td>\n",
       "      <td>BLR → DEL</td>\n",
       "      <td>08:20</td>\n",
       "      <td>11:20</td>\n",
       "      <td>3h</td>\n",
       "      <td>non-stop</td>\n",
       "      <td>No info</td>\n",
       "      <td>7229</td>\n",
       "    </tr>\n",
       "    <tr>\n",
       "      <th>10681</th>\n",
       "      <td>Vistara</td>\n",
       "      <td>01/03/2019</td>\n",
       "      <td>Banglore</td>\n",
       "      <td>New Delhi</td>\n",
       "      <td>BLR → DEL</td>\n",
       "      <td>11:30</td>\n",
       "      <td>14:10</td>\n",
       "      <td>2h 40m</td>\n",
       "      <td>non-stop</td>\n",
       "      <td>No info</td>\n",
       "      <td>12648</td>\n",
       "    </tr>\n",
       "    <tr>\n",
       "      <th>10682</th>\n",
       "      <td>Air India</td>\n",
       "      <td>9/05/2019</td>\n",
       "      <td>Delhi</td>\n",
       "      <td>Cochin</td>\n",
       "      <td>DEL → GOI → BOM → COK</td>\n",
       "      <td>10:55</td>\n",
       "      <td>19:15</td>\n",
       "      <td>8h 20m</td>\n",
       "      <td>2 stops</td>\n",
       "      <td>No info</td>\n",
       "      <td>11753</td>\n",
       "    </tr>\n",
       "  </tbody>\n",
       "</table>\n",
       "<p>10683 rows × 11 columns</p>\n",
       "</div>"
      ],
      "text/plain": [
       "           Airline Date_of_Journey    Source Destination  \\\n",
       "0           IndiGo      24/03/2019  Banglore   New Delhi   \n",
       "1        Air India       1/05/2019   Kolkata    Banglore   \n",
       "2      Jet Airways       9/06/2019     Delhi      Cochin   \n",
       "3           IndiGo      12/05/2019   Kolkata    Banglore   \n",
       "4           IndiGo      01/03/2019  Banglore   New Delhi   \n",
       "...            ...             ...       ...         ...   \n",
       "10678     Air Asia       9/04/2019   Kolkata    Banglore   \n",
       "10679    Air India      27/04/2019   Kolkata    Banglore   \n",
       "10680  Jet Airways      27/04/2019  Banglore       Delhi   \n",
       "10681      Vistara      01/03/2019  Banglore   New Delhi   \n",
       "10682    Air India       9/05/2019     Delhi      Cochin   \n",
       "\n",
       "                       Route Dep_Time  Arrival_Time Duration Total_Stops  \\\n",
       "0                  BLR → DEL    22:20  01:10 22 Mar   2h 50m    non-stop   \n",
       "1      CCU → IXR → BBI → BLR    05:50         13:15   7h 25m     2 stops   \n",
       "2      DEL → LKO → BOM → COK    09:25  04:25 10 Jun      19h     2 stops   \n",
       "3            CCU → NAG → BLR    18:05         23:30   5h 25m      1 stop   \n",
       "4            BLR → NAG → DEL    16:50         21:35   4h 45m      1 stop   \n",
       "...                      ...      ...           ...      ...         ...   \n",
       "10678              CCU → BLR    19:55         22:25   2h 30m    non-stop   \n",
       "10679              CCU → BLR    20:45         23:20   2h 35m    non-stop   \n",
       "10680              BLR → DEL    08:20         11:20       3h    non-stop   \n",
       "10681              BLR → DEL    11:30         14:10   2h 40m    non-stop   \n",
       "10682  DEL → GOI → BOM → COK    10:55         19:15   8h 20m     2 stops   \n",
       "\n",
       "      Additional_Info  Price  \n",
       "0             No info   3897  \n",
       "1             No info   7662  \n",
       "2             No info  13882  \n",
       "3             No info   6218  \n",
       "4             No info  13302  \n",
       "...               ...    ...  \n",
       "10678         No info   4107  \n",
       "10679         No info   4145  \n",
       "10680         No info   7229  \n",
       "10681         No info  12648  \n",
       "10682         No info  11753  \n",
       "\n",
       "[10683 rows x 11 columns]"
      ]
     },
     "execution_count": 2,
     "metadata": {},
     "output_type": "execute_result"
    }
   ],
   "source": [
    "# Import data\n",
    "\n",
    "data=pd.read_csv(\"Flight_Fare.csv\")\n",
    "data"
   ]
  },
  {
   "cell_type": "markdown",
   "id": "4c677491",
   "metadata": {},
   "source": [
    "# 4. Domain Analysis\n"
   ]
  },
  {
   "cell_type": "markdown",
   "id": "02f1c5ea",
   "metadata": {},
   "source": [
    "* Airline: So this column will have all the types of airlines like Indigo, Jet Airways, Air India, and many more.\n",
    "\n",
    "\n",
    "\n",
    "\n",
    "* Date_of_Journey: This column will let us know about the date on which the passenger’s journey will start.\n",
    "\n",
    "* Source: This column holds the name of the place from where the passenger’s journey will start.\n",
    "\n",
    "* Destination: This column holds the name of the place to where passengers wanted to travel.\n",
    "\n",
    "* Route: Here we can know about what the route is through which passengers have opted to travel from his/her source to their destination.\n",
    "\n",
    "* Arrival_Time: Arrival time is when the passenger will reach his/her destination.\n",
    "\n",
    "* Duration: Duration is the whole period that a flight will take to complete its journey from source to destination.\n",
    "\n",
    "* Total_Stops: This will let us know in how many places flights will stop there for the flight in the whole journey.\n",
    "\n",
    "* Additional_Info: In this column, we will get information about food, kind of food, and other amenities.\n",
    "\n",
    "* Price: Price of the flight for a complete journey including all the expenses before onboarding."
   ]
  },
  {
   "cell_type": "markdown",
   "id": "623ff532",
   "metadata": {},
   "source": [
    "# 5. Basic Checks"
   ]
  },
  {
   "cell_type": "code",
   "execution_count": 3,
   "id": "3b657526",
   "metadata": {},
   "outputs": [
    {
     "data": {
      "text/plain": [
       "(10683, 11)"
      ]
     },
     "execution_count": 3,
     "metadata": {},
     "output_type": "execute_result"
    }
   ],
   "source": [
    "# To see number of rows and columns\n",
    "\n",
    "data.shape"
   ]
  },
  {
   "cell_type": "code",
   "execution_count": 4,
   "id": "55cfa656",
   "metadata": {},
   "outputs": [
    {
     "data": {
      "text/html": [
       "<div>\n",
       "<style scoped>\n",
       "    .dataframe tbody tr th:only-of-type {\n",
       "        vertical-align: middle;\n",
       "    }\n",
       "\n",
       "    .dataframe tbody tr th {\n",
       "        vertical-align: top;\n",
       "    }\n",
       "\n",
       "    .dataframe thead th {\n",
       "        text-align: right;\n",
       "    }\n",
       "</style>\n",
       "<table border=\"1\" class=\"dataframe\">\n",
       "  <thead>\n",
       "    <tr style=\"text-align: right;\">\n",
       "      <th></th>\n",
       "      <th>Airline</th>\n",
       "      <th>Date_of_Journey</th>\n",
       "      <th>Source</th>\n",
       "      <th>Destination</th>\n",
       "      <th>Route</th>\n",
       "      <th>Dep_Time</th>\n",
       "      <th>Arrival_Time</th>\n",
       "      <th>Duration</th>\n",
       "      <th>Total_Stops</th>\n",
       "      <th>Additional_Info</th>\n",
       "      <th>Price</th>\n",
       "    </tr>\n",
       "  </thead>\n",
       "  <tbody>\n",
       "    <tr>\n",
       "      <th>0</th>\n",
       "      <td>IndiGo</td>\n",
       "      <td>24/03/2019</td>\n",
       "      <td>Banglore</td>\n",
       "      <td>New Delhi</td>\n",
       "      <td>BLR → DEL</td>\n",
       "      <td>22:20</td>\n",
       "      <td>01:10 22 Mar</td>\n",
       "      <td>2h 50m</td>\n",
       "      <td>non-stop</td>\n",
       "      <td>No info</td>\n",
       "      <td>3897</td>\n",
       "    </tr>\n",
       "    <tr>\n",
       "      <th>1</th>\n",
       "      <td>Air India</td>\n",
       "      <td>1/05/2019</td>\n",
       "      <td>Kolkata</td>\n",
       "      <td>Banglore</td>\n",
       "      <td>CCU → IXR → BBI → BLR</td>\n",
       "      <td>05:50</td>\n",
       "      <td>13:15</td>\n",
       "      <td>7h 25m</td>\n",
       "      <td>2 stops</td>\n",
       "      <td>No info</td>\n",
       "      <td>7662</td>\n",
       "    </tr>\n",
       "    <tr>\n",
       "      <th>2</th>\n",
       "      <td>Jet Airways</td>\n",
       "      <td>9/06/2019</td>\n",
       "      <td>Delhi</td>\n",
       "      <td>Cochin</td>\n",
       "      <td>DEL → LKO → BOM → COK</td>\n",
       "      <td>09:25</td>\n",
       "      <td>04:25 10 Jun</td>\n",
       "      <td>19h</td>\n",
       "      <td>2 stops</td>\n",
       "      <td>No info</td>\n",
       "      <td>13882</td>\n",
       "    </tr>\n",
       "    <tr>\n",
       "      <th>3</th>\n",
       "      <td>IndiGo</td>\n",
       "      <td>12/05/2019</td>\n",
       "      <td>Kolkata</td>\n",
       "      <td>Banglore</td>\n",
       "      <td>CCU → NAG → BLR</td>\n",
       "      <td>18:05</td>\n",
       "      <td>23:30</td>\n",
       "      <td>5h 25m</td>\n",
       "      <td>1 stop</td>\n",
       "      <td>No info</td>\n",
       "      <td>6218</td>\n",
       "    </tr>\n",
       "    <tr>\n",
       "      <th>4</th>\n",
       "      <td>IndiGo</td>\n",
       "      <td>01/03/2019</td>\n",
       "      <td>Banglore</td>\n",
       "      <td>New Delhi</td>\n",
       "      <td>BLR → NAG → DEL</td>\n",
       "      <td>16:50</td>\n",
       "      <td>21:35</td>\n",
       "      <td>4h 45m</td>\n",
       "      <td>1 stop</td>\n",
       "      <td>No info</td>\n",
       "      <td>13302</td>\n",
       "    </tr>\n",
       "  </tbody>\n",
       "</table>\n",
       "</div>"
      ],
      "text/plain": [
       "       Airline Date_of_Journey    Source Destination                  Route  \\\n",
       "0       IndiGo      24/03/2019  Banglore   New Delhi              BLR → DEL   \n",
       "1    Air India       1/05/2019   Kolkata    Banglore  CCU → IXR → BBI → BLR   \n",
       "2  Jet Airways       9/06/2019     Delhi      Cochin  DEL → LKO → BOM → COK   \n",
       "3       IndiGo      12/05/2019   Kolkata    Banglore        CCU → NAG → BLR   \n",
       "4       IndiGo      01/03/2019  Banglore   New Delhi        BLR → NAG → DEL   \n",
       "\n",
       "  Dep_Time  Arrival_Time Duration Total_Stops Additional_Info  Price  \n",
       "0    22:20  01:10 22 Mar   2h 50m    non-stop         No info   3897  \n",
       "1    05:50         13:15   7h 25m     2 stops         No info   7662  \n",
       "2    09:25  04:25 10 Jun      19h     2 stops         No info  13882  \n",
       "3    18:05         23:30   5h 25m      1 stop         No info   6218  \n",
       "4    16:50         21:35   4h 45m      1 stop         No info  13302  "
      ]
     },
     "execution_count": 4,
     "metadata": {},
     "output_type": "execute_result"
    }
   ],
   "source": [
    "# To see datas in first 5 rows\n",
    "\n",
    "data.head()"
   ]
  },
  {
   "cell_type": "code",
   "execution_count": 5,
   "id": "22104bff",
   "metadata": {},
   "outputs": [
    {
     "data": {
      "text/html": [
       "<div>\n",
       "<style scoped>\n",
       "    .dataframe tbody tr th:only-of-type {\n",
       "        vertical-align: middle;\n",
       "    }\n",
       "\n",
       "    .dataframe tbody tr th {\n",
       "        vertical-align: top;\n",
       "    }\n",
       "\n",
       "    .dataframe thead th {\n",
       "        text-align: right;\n",
       "    }\n",
       "</style>\n",
       "<table border=\"1\" class=\"dataframe\">\n",
       "  <thead>\n",
       "    <tr style=\"text-align: right;\">\n",
       "      <th></th>\n",
       "      <th>Airline</th>\n",
       "      <th>Date_of_Journey</th>\n",
       "      <th>Source</th>\n",
       "      <th>Destination</th>\n",
       "      <th>Route</th>\n",
       "      <th>Dep_Time</th>\n",
       "      <th>Arrival_Time</th>\n",
       "      <th>Duration</th>\n",
       "      <th>Total_Stops</th>\n",
       "      <th>Additional_Info</th>\n",
       "      <th>Price</th>\n",
       "    </tr>\n",
       "  </thead>\n",
       "  <tbody>\n",
       "    <tr>\n",
       "      <th>10678</th>\n",
       "      <td>Air Asia</td>\n",
       "      <td>9/04/2019</td>\n",
       "      <td>Kolkata</td>\n",
       "      <td>Banglore</td>\n",
       "      <td>CCU → BLR</td>\n",
       "      <td>19:55</td>\n",
       "      <td>22:25</td>\n",
       "      <td>2h 30m</td>\n",
       "      <td>non-stop</td>\n",
       "      <td>No info</td>\n",
       "      <td>4107</td>\n",
       "    </tr>\n",
       "    <tr>\n",
       "      <th>10679</th>\n",
       "      <td>Air India</td>\n",
       "      <td>27/04/2019</td>\n",
       "      <td>Kolkata</td>\n",
       "      <td>Banglore</td>\n",
       "      <td>CCU → BLR</td>\n",
       "      <td>20:45</td>\n",
       "      <td>23:20</td>\n",
       "      <td>2h 35m</td>\n",
       "      <td>non-stop</td>\n",
       "      <td>No info</td>\n",
       "      <td>4145</td>\n",
       "    </tr>\n",
       "    <tr>\n",
       "      <th>10680</th>\n",
       "      <td>Jet Airways</td>\n",
       "      <td>27/04/2019</td>\n",
       "      <td>Banglore</td>\n",
       "      <td>Delhi</td>\n",
       "      <td>BLR → DEL</td>\n",
       "      <td>08:20</td>\n",
       "      <td>11:20</td>\n",
       "      <td>3h</td>\n",
       "      <td>non-stop</td>\n",
       "      <td>No info</td>\n",
       "      <td>7229</td>\n",
       "    </tr>\n",
       "    <tr>\n",
       "      <th>10681</th>\n",
       "      <td>Vistara</td>\n",
       "      <td>01/03/2019</td>\n",
       "      <td>Banglore</td>\n",
       "      <td>New Delhi</td>\n",
       "      <td>BLR → DEL</td>\n",
       "      <td>11:30</td>\n",
       "      <td>14:10</td>\n",
       "      <td>2h 40m</td>\n",
       "      <td>non-stop</td>\n",
       "      <td>No info</td>\n",
       "      <td>12648</td>\n",
       "    </tr>\n",
       "    <tr>\n",
       "      <th>10682</th>\n",
       "      <td>Air India</td>\n",
       "      <td>9/05/2019</td>\n",
       "      <td>Delhi</td>\n",
       "      <td>Cochin</td>\n",
       "      <td>DEL → GOI → BOM → COK</td>\n",
       "      <td>10:55</td>\n",
       "      <td>19:15</td>\n",
       "      <td>8h 20m</td>\n",
       "      <td>2 stops</td>\n",
       "      <td>No info</td>\n",
       "      <td>11753</td>\n",
       "    </tr>\n",
       "  </tbody>\n",
       "</table>\n",
       "</div>"
      ],
      "text/plain": [
       "           Airline Date_of_Journey    Source Destination  \\\n",
       "10678     Air Asia       9/04/2019   Kolkata    Banglore   \n",
       "10679    Air India      27/04/2019   Kolkata    Banglore   \n",
       "10680  Jet Airways      27/04/2019  Banglore       Delhi   \n",
       "10681      Vistara      01/03/2019  Banglore   New Delhi   \n",
       "10682    Air India       9/05/2019     Delhi      Cochin   \n",
       "\n",
       "                       Route Dep_Time Arrival_Time Duration Total_Stops  \\\n",
       "10678              CCU → BLR    19:55        22:25   2h 30m    non-stop   \n",
       "10679              CCU → BLR    20:45        23:20   2h 35m    non-stop   \n",
       "10680              BLR → DEL    08:20        11:20       3h    non-stop   \n",
       "10681              BLR → DEL    11:30        14:10   2h 40m    non-stop   \n",
       "10682  DEL → GOI → BOM → COK    10:55        19:15   8h 20m     2 stops   \n",
       "\n",
       "      Additional_Info  Price  \n",
       "10678         No info   4107  \n",
       "10679         No info   4145  \n",
       "10680         No info   7229  \n",
       "10681         No info  12648  \n",
       "10682         No info  11753  "
      ]
     },
     "execution_count": 5,
     "metadata": {},
     "output_type": "execute_result"
    }
   ],
   "source": [
    "# To see datas in last 5 rows\n",
    "\n",
    "data.tail()"
   ]
  },
  {
   "cell_type": "code",
   "execution_count": 6,
   "id": "91a3ee74",
   "metadata": {},
   "outputs": [
    {
     "data": {
      "text/plain": [
       "Index(['Airline', 'Date_of_Journey', 'Source', 'Destination', 'Route',\n",
       "       'Dep_Time', 'Arrival_Time', 'Duration', 'Total_Stops',\n",
       "       'Additional_Info', 'Price'],\n",
       "      dtype='object')"
      ]
     },
     "execution_count": 6,
     "metadata": {},
     "output_type": "execute_result"
    }
   ],
   "source": [
    "# To see the column names\n",
    "\n",
    "data.columns"
   ]
  },
  {
   "cell_type": "code",
   "execution_count": 7,
   "id": "f57f447c",
   "metadata": {},
   "outputs": [
    {
     "data": {
      "text/plain": [
       "Airline            object\n",
       "Date_of_Journey    object\n",
       "Source             object\n",
       "Destination        object\n",
       "Route              object\n",
       "Dep_Time           object\n",
       "Arrival_Time       object\n",
       "Duration           object\n",
       "Total_Stops        object\n",
       "Additional_Info    object\n",
       "Price               int64\n",
       "dtype: object"
      ]
     },
     "execution_count": 7,
     "metadata": {},
     "output_type": "execute_result"
    }
   ],
   "source": [
    "# To see the datatypes of each columns\n",
    "\n",
    "data.dtypes"
   ]
  },
  {
   "cell_type": "code",
   "execution_count": 8,
   "id": "8372d175",
   "metadata": {},
   "outputs": [
    {
     "name": "stdout",
     "output_type": "stream",
     "text": [
      "<class 'pandas.core.frame.DataFrame'>\n",
      "RangeIndex: 10683 entries, 0 to 10682\n",
      "Data columns (total 11 columns):\n",
      " #   Column           Non-Null Count  Dtype \n",
      "---  ------           --------------  ----- \n",
      " 0   Airline          10683 non-null  object\n",
      " 1   Date_of_Journey  10683 non-null  object\n",
      " 2   Source           10683 non-null  object\n",
      " 3   Destination      10683 non-null  object\n",
      " 4   Route            10682 non-null  object\n",
      " 5   Dep_Time         10683 non-null  object\n",
      " 6   Arrival_Time     10683 non-null  object\n",
      " 7   Duration         10683 non-null  object\n",
      " 8   Total_Stops      10682 non-null  object\n",
      " 9   Additional_Info  10683 non-null  object\n",
      " 10  Price            10683 non-null  int64 \n",
      "dtypes: int64(1), object(10)\n",
      "memory usage: 918.2+ KB\n"
     ]
    }
   ],
   "source": [
    "# To see the number of null values in each column along with memory usage and datatype\n",
    "\n",
    "data.info()"
   ]
  },
  {
   "cell_type": "code",
   "execution_count": 9,
   "id": "3784d591",
   "metadata": {},
   "outputs": [
    {
     "data": {
      "text/html": [
       "<div>\n",
       "<style scoped>\n",
       "    .dataframe tbody tr th:only-of-type {\n",
       "        vertical-align: middle;\n",
       "    }\n",
       "\n",
       "    .dataframe tbody tr th {\n",
       "        vertical-align: top;\n",
       "    }\n",
       "\n",
       "    .dataframe thead th {\n",
       "        text-align: right;\n",
       "    }\n",
       "</style>\n",
       "<table border=\"1\" class=\"dataframe\">\n",
       "  <thead>\n",
       "    <tr style=\"text-align: right;\">\n",
       "      <th></th>\n",
       "      <th>Price</th>\n",
       "    </tr>\n",
       "  </thead>\n",
       "  <tbody>\n",
       "    <tr>\n",
       "      <th>count</th>\n",
       "      <td>10683.000000</td>\n",
       "    </tr>\n",
       "    <tr>\n",
       "      <th>mean</th>\n",
       "      <td>9087.064121</td>\n",
       "    </tr>\n",
       "    <tr>\n",
       "      <th>std</th>\n",
       "      <td>4611.359167</td>\n",
       "    </tr>\n",
       "    <tr>\n",
       "      <th>min</th>\n",
       "      <td>1759.000000</td>\n",
       "    </tr>\n",
       "    <tr>\n",
       "      <th>25%</th>\n",
       "      <td>5277.000000</td>\n",
       "    </tr>\n",
       "    <tr>\n",
       "      <th>50%</th>\n",
       "      <td>8372.000000</td>\n",
       "    </tr>\n",
       "    <tr>\n",
       "      <th>75%</th>\n",
       "      <td>12373.000000</td>\n",
       "    </tr>\n",
       "    <tr>\n",
       "      <th>max</th>\n",
       "      <td>79512.000000</td>\n",
       "    </tr>\n",
       "  </tbody>\n",
       "</table>\n",
       "</div>"
      ],
      "text/plain": [
       "              Price\n",
       "count  10683.000000\n",
       "mean    9087.064121\n",
       "std     4611.359167\n",
       "min     1759.000000\n",
       "25%     5277.000000\n",
       "50%     8372.000000\n",
       "75%    12373.000000\n",
       "max    79512.000000"
      ]
     },
     "execution_count": 9,
     "metadata": {},
     "output_type": "execute_result"
    }
   ],
   "source": [
    "# To see statistical informations regarding the dataset\n",
    "\n",
    "data.describe()"
   ]
  },
  {
   "cell_type": "markdown",
   "id": "74280e65",
   "metadata": {},
   "source": [
    "# 6. Exploratory Data Analysis (EDA)"
   ]
  },
  {
   "cell_type": "markdown",
   "id": "0a66a9d5",
   "metadata": {},
   "source": [
    "## Univariate Analysis"
   ]
  },
  {
   "cell_type": "markdown",
   "id": "6fa518f1",
   "metadata": {},
   "source": [
    "### 1.AIRLINE"
   ]
  },
  {
   "cell_type": "code",
   "execution_count": 10,
   "id": "819f37a1",
   "metadata": {},
   "outputs": [
    {
     "data": {
      "text/plain": [
       "Text(0, 0.5, 'count')"
      ]
     },
     "execution_count": 10,
     "metadata": {},
     "output_type": "execute_result"
    },
    {
     "data": {
      "image/png": "[encoded data removed]",
      "text/plain": [
       "<Figure size 3000x1700 with 1 Axes>"
      ]
     },
     "metadata": {},
     "output_type": "display_data"
    }
   ],
   "source": [
    "plt.figure(figsize=(30,17))\n",
    "sns.countplot(x=\"Airline\",data=data)\n",
    "plt.xlabel(\"Airline\",fontsize=20)\n",
    "plt.ylabel(\"count\",fontsize=20)"
   ]
  },
  {
   "cell_type": "markdown",
   "id": "2c7c429a",
   "metadata": {},
   "source": [
    "### Insights:\n",
    "From the countplot drawn here, we can see that Jet Airways is the costliest among all the flights"
   ]
  },
  {
   "cell_type": "markdown",
   "id": "ce163101",
   "metadata": {},
   "source": [
    "### 2. SOURCE"
   ]
  },
  {
   "cell_type": "code",
   "execution_count": 11,
   "id": "f980741b",
   "metadata": {},
   "outputs": [
    {
     "data": {
      "text/plain": [
       "Text(0, 0.5, 'count')"
      ]
     },
     "execution_count": 11,
     "metadata": {},
     "output_type": "execute_result"
    },
    {
     "data": {
      "image/png": "[encoded data removed]",
      "text/plain": [
       "<Figure size 1000x600 with 1 Axes>"
      ]
     },
     "metadata": {},
     "output_type": "display_data"
    }
   ],
   "source": [
    "plt.figure(figsize=(10,6))\n",
    "sns.countplot(x=\"Source\",data=data)\n",
    "plt.xlabel(\"Source\",fontsize=20)\n",
    "plt.ylabel(\"count\",fontsize=20)"
   ]
  },
  {
   "cell_type": "markdown",
   "id": "243dcc08",
   "metadata": {},
   "source": [
    "#### INSIGHTS:\n",
    "\n",
    "Delhi has highest take off or originating point for all the flights followed by Kolkata and Banglore respectivel"
   ]
  },
  {
   "cell_type": "markdown",
   "id": "add4f714",
   "metadata": {},
   "source": [
    "### 3. DESTINATION"
   ]
  },
  {
   "cell_type": "code",
   "execution_count": 12,
   "id": "a70a480b",
   "metadata": {},
   "outputs": [
    {
     "data": {
      "text/plain": [
       "Text(0, 0.5, 'count')"
      ]
     },
     "execution_count": 12,
     "metadata": {},
     "output_type": "execute_result"
    },
    {
     "data": {
      "image/png": "[encoded data removed]",
      "text/plain": [
       "<Figure size 1000x600 with 1 Axes>"
      ]
     },
     "metadata": {},
     "output_type": "display_data"
    }
   ],
   "source": [
    "plt.figure(figsize=(10,6))\n",
    "sns.countplot(x=\"Destination\",data=data)\n",
    "plt.xlabel(\"Destination\",fontsize=20)\n",
    "plt.ylabel(\"count\",fontsize=20)"
   ]
  },
  {
   "cell_type": "markdown",
   "id": "ef6d9f0f",
   "metadata": {},
   "source": [
    "#### INSIGHTS:\n",
    "\n",
    "Cochin has the highest landing or arrival of the flights from different places followed by Banglore and Delhi."
   ]
  },
  {
   "cell_type": "markdown",
   "id": "2107ffa8",
   "metadata": {},
   "source": [
    "### 4. TOTAL STOPS"
   ]
  },
  {
   "cell_type": "code",
   "execution_count": 13,
   "id": "51995223",
   "metadata": {},
   "outputs": [
    {
     "data": {
      "text/plain": [
       "Text(0, 0.5, 'count')"
      ]
     },
     "execution_count": 13,
     "metadata": {},
     "output_type": "execute_result"
    },
    {
     "data": {
      "image/png": "[encoded data removed]",
      "text/plain": [
       "<Figure size 1000x600 with 1 Axes>"
      ]
     },
     "metadata": {},
     "output_type": "display_data"
    }
   ],
   "source": [
    "plt.figure(figsize=(10,6))\n",
    "sns.countplot(x=\"Total_Stops\",data=data)\n",
    "plt.xlabel(\"Total_Stops\",fontsize=20)\n",
    "plt.ylabel(\"count\",fontsize=20)"
   ]
  },
  {
   "cell_type": "markdown",
   "id": "e2e4ad13",
   "metadata": {},
   "source": [
    "#### INSIGHTS:\n",
    "\n",
    "Most flights have single stop in between taking off and landing at the destination followed by non-stop."
   ]
  },
  {
   "cell_type": "markdown",
   "id": "d5c2d4ad",
   "metadata": {},
   "source": [
    "### 5. ADDITIONAL INFO"
   ]
  },
  {
   "cell_type": "code",
   "execution_count": 14,
   "id": "79d0555e",
   "metadata": {},
   "outputs": [
    {
     "data": {
      "text/plain": [
       "Text(0, 0.5, 'count')"
      ]
     },
     "execution_count": 14,
     "metadata": {},
     "output_type": "execute_result"
    },
    {
     "data": {
      "image/png": "[encoded data removed]",
      "text/plain": [
       "<Figure size 3000x2000 with 1 Axes>"
      ]
     },
     "metadata": {},
     "output_type": "display_data"
    }
   ],
   "source": [
    "plt.figure(figsize=(30,20))\n",
    "sns.countplot(x=\"Additional_Info\",data=data)\n",
    "plt.xlabel(\"Additional_Info\",fontsize=20)\n",
    "plt.ylabel(\"count\",fontsize=20)"
   ]
  },
  {
   "cell_type": "markdown",
   "id": "8c9f0abf",
   "metadata": {},
   "source": [
    "#### INSIGHTS:\n",
    "\n",
    "Most of the flights do not have any extra information\n",
    "\n",
    "There are few flights with extra information of \"in-flight meal not included\" followed by \"No Check-in baggage included\""
   ]
  },
  {
   "cell_type": "markdown",
   "id": "eb2e44ff",
   "metadata": {},
   "source": [
    "### sweetviz can be used for univariate analysis."
   ]
  },
  {
   "cell_type": "code",
   "execution_count": 15,
   "id": "6b76c042",
   "metadata": {},
   "outputs": [
    {
     "name": "stdout",
     "output_type": "stream",
     "text": [
      "Requirement already satisfied: sweetviz in c:\\users\\hp comp\\anaconda3\\lib\\site-packages (2.3.0)\n",
      "Requirement already satisfied: pandas!=1.0.0,!=1.0.1,!=1.0.2,>=0.25.3 in c:\\users\\hp comp\\anaconda3\\lib\\site-packages (from sweetviz) (2.0.3)\n",
      "Requirement already satisfied: numpy>=1.16.0 in c:\\users\\hp comp\\anaconda3\\lib\\site-packages (from sweetviz) (1.24.3)\n",
      "Requirement already satisfied: matplotlib>=3.1.3 in c:\\users\\hp comp\\anaconda3\\lib\\site-packages (from sweetviz) (3.7.2)\n",
      "Requirement already satisfied: tqdm>=4.43.0 in c:\\users\\hp comp\\anaconda3\\lib\\site-packages (from sweetviz) (4.65.0)\n",
      "Requirement already satisfied: scipy>=1.3.2 in c:\\users\\hp comp\\anaconda3\\lib\\site-packages (from sweetviz) (1.11.1)\n",
      "Requirement already satisfied: jinja2>=2.11.1 in c:\\users\\hp comp\\anaconda3\\lib\\site-packages (from sweetviz) (3.1.2)\n",
      "Requirement already satisfied: importlib-resources>=1.2.0 in c:\\users\\hp comp\\anaconda3\\lib\\site-packages (from sweetviz) (6.1.1)\n",
      "Requirement already satisfied: MarkupSafe>=2.0 in c:\\users\\hp comp\\anaconda3\\lib\\site-packages (from jinja2>=2.11.1->sweetviz) (2.1.1)\n",
      "Requirement already satisfied: contourpy>=1.0.1 in c:\\users\\hp comp\\anaconda3\\lib\\site-packages (from matplotlib>=3.1.3->sweetviz) (1.0.5)\n",
      "Requirement already satisfied: cycler>=0.10 in c:\\users\\hp comp\\anaconda3\\lib\\site-packages (from matplotlib>=3.1.3->sweetviz) (0.11.0)\n",
      "Requirement already satisfied: fonttools>=4.22.0 in c:\\users\\hp comp\\anaconda3\\lib\\site-packages (from matplotlib>=3.1.3->sweetviz) (4.25.0)\n",
      "Requirement already satisfied: kiwisolver>=1.0.1 in c:\\users\\hp comp\\anaconda3\\lib\\site-packages (from matplotlib>=3.1.3->sweetviz) (1.4.4)\n",
      "Requirement already satisfied: packaging>=20.0 in c:\\users\\hp comp\\anaconda3\\lib\\site-packages (from matplotlib>=3.1.3->sweetviz) (23.1)\n",
      "Requirement already satisfied: pillow>=6.2.0 in c:\\users\\hp comp\\anaconda3\\lib\\site-packages (from matplotlib>=3.1.3->sweetviz) (9.4.0)\n",
      "Requirement already satisfied: pyparsing<3.1,>=2.3.1 in c:\\users\\hp comp\\anaconda3\\lib\\site-packages (from matplotlib>=3.1.3->sweetviz) (3.0.9)\n",
      "Requirement already satisfied: python-dateutil>=2.7 in c:\\users\\hp comp\\anaconda3\\lib\\site-packages (from matplotlib>=3.1.3->sweetviz) (2.8.2)\n",
      "Requirement already satisfied: pytz>=2020.1 in c:\\users\\hp comp\\anaconda3\\lib\\site-packages (from pandas!=1.0.0,!=1.0.1,!=1.0.2,>=0.25.3->sweetviz) (2023.3.post1)\n",
      "Requirement already satisfied: tzdata>=2022.1 in c:\\users\\hp comp\\anaconda3\\lib\\site-packages (from pandas!=1.0.0,!=1.0.1,!=1.0.2,>=0.25.3->sweetviz) (2023.3)\n",
      "Requirement already satisfied: colorama in c:\\users\\hp comp\\anaconda3\\lib\\site-packages (from tqdm>=4.43.0->sweetviz) (0.4.6)\n",
      "Requirement already satisfied: six>=1.5 in c:\\users\\hp comp\\anaconda3\\lib\\site-packages (from python-dateutil>=2.7->matplotlib>=3.1.3->sweetviz) (1.16.0)\n"
     ]
    }
   ],
   "source": [
    "# Installing sweetviz\n",
    "\n",
    "!pip install sweetviz"
   ]
  },
  {
   "cell_type": "code",
   "execution_count": 16,
   "id": "52aca33e",
   "metadata": {},
   "outputs": [
    {
     "data": {
      "application/vnd.jupyter.widget-view+json": {
       "model_id": "32f41e7d816a442ba3a5fb78584f5546",
       "version_major": 2,
       "version_minor": 0
      },
      "text/plain": [
       "                                             |                                             | [  0%]   00:00 ->…"
      ]
     },
     "metadata": {},
     "output_type": "display_data"
    },
    {
     "name": "stdout",
     "output_type": "stream",
     "text": [
      "Report my_report.html was generated! NOTEBOOK/COLAB USERS: the web browser MAY not pop up, regardless, the report IS saved in your notebook/colab files.\n"
     ]
    }
   ],
   "source": [
    "# Importing sweetviz\n",
    "\n",
    "import sweetviz as sv\n",
    "my_report=sv.analyze(data)\n",
    "my_report.show_html(\"my_report.html\")"
   ]
  },
  {
   "cell_type": "markdown",
   "id": "49a4f788",
   "metadata": {},
   "source": [
    "###  INSIGHTS:\n",
    "\n",
    "* Majority of the flight prices are coming under 20,000\n",
    "\n",
    "* The maximum flight price is 79,512 and minimum flight price is 1,759\n",
    "\n",
    "* Most of the flights do not have any extra information\n",
    "\n",
    "* There are few flights with extra information of \"in-flight meal not included\" followed by \"No Check-in baggage included\"\n",
    "\n",
    "* About 53% of flights have single stop in between taking off and landing at the destination followed by non-stop.\n",
    "\n",
    "* Cochin has the highest landing or arrival of the flights from different places followed by Banglore and Delhi.\n",
    "\n",
    "* Kolkata has the least landing or arrival\n",
    "\n",
    "* Delhi has highest take off or originating point for all the flights followed by Kolkata and Banglore.\n",
    "\n",
    "* Chennai has the least take off as compared to all others.\n",
    "\n",
    "* Jet Airways is the most choosen and costliest among all the flights.\n",
    "\n",
    "* Go Air is the least choosen flight as compared to all others."
   ]
  },
  {
   "cell_type": "markdown",
   "id": "4c5ff07f",
   "metadata": {},
   "source": [
    "## Bi Variate analysis"
   ]
  },
  {
   "cell_type": "code",
   "execution_count": 17,
   "id": "56b985ca",
   "metadata": {},
   "outputs": [
    {
     "data": {
      "text/plain": [
       "<Axes: xlabel='Airline', ylabel='Price'>"
      ]
     },
     "execution_count": 17,
     "metadata": {},
     "output_type": "execute_result"
    },
    {
     "data": {
      "image/png": "[encoded data removed]",
      "text/plain": [
       "<Figure size 1200x600 with 1 Axes>"
      ]
     },
     "metadata": {},
     "output_type": "display_data"
    }
   ],
   "source": [
    "plt.figure(figsize=(12,6))\n",
    "sns.barplot(x=\"Airline\",y=\"Price\",data=data)"
   ]
  },
  {
   "cell_type": "code",
   "execution_count": 18,
   "id": "35f91964",
   "metadata": {},
   "outputs": [
    {
     "data": {
      "text/plain": [
       "<Axes: xlabel='Source', ylabel='Price'>"
      ]
     },
     "execution_count": 18,
     "metadata": {},
     "output_type": "execute_result"
    },
    {
     "data": {
      "image/png": "[encoded data removed]",
      "text/plain": [
       "<Figure size 1200x600 with 1 Axes>"
      ]
     },
     "metadata": {},
     "output_type": "display_data"
    }
   ],
   "source": [
    "plt.figure(figsize=(12,6))\n",
    "sns.barplot(x=\"Source\",y=\"Price\",data=data)"
   ]
  },
  {
   "cell_type": "code",
   "execution_count": 19,
   "id": "fc105022",
   "metadata": {},
   "outputs": [
    {
     "data": {
      "text/plain": [
       "<Axes: xlabel='Destination', ylabel='Price'>"
      ]
     },
     "execution_count": 19,
     "metadata": {},
     "output_type": "execute_result"
    },
    {
     "data": {
      "image/png": "[encoded data removed]",
      "text/plain": [
       "<Figure size 1200x600 with 1 Axes>"
      ]
     },
     "metadata": {},
     "output_type": "display_data"
    }
   ],
   "source": [
    "plt.figure(figsize=(12,6))\n",
    "sns.barplot(x=\"Destination\",y=\"Price\",data=data)"
   ]
  },
  {
   "cell_type": "code",
   "execution_count": 20,
   "id": "b967e35a",
   "metadata": {},
   "outputs": [
    {
     "data": {
      "text/plain": [
       "<Axes: xlabel='Total_Stops', ylabel='Price'>"
      ]
     },
     "execution_count": 20,
     "metadata": {},
     "output_type": "execute_result"
    },
    {
     "data": {
      "image/png": "[encoded data removed]",
      "text/plain": [
       "<Figure size 1200x600 with 1 Axes>"
      ]
     },
     "metadata": {},
     "output_type": "display_data"
    }
   ],
   "source": [
    "plt.figure(figsize=(12,6))\n",
    "sns.barplot(x=\"Total_Stops\",y=\"Price\",data=data)"
   ]
  },
  {
   "cell_type": "code",
   "execution_count": 21,
   "id": "1d60a06a",
   "metadata": {},
   "outputs": [
    {
     "data": {
      "text/plain": [
       "<Axes: xlabel='Additional_Info', ylabel='Price'>"
      ]
     },
     "execution_count": 21,
     "metadata": {},
     "output_type": "execute_result"
    },
    {
     "data": {
      "image/png": "[encoded data removed]",
      "text/plain": [
       "<Figure size 1600x800 with 1 Axes>"
      ]
     },
     "metadata": {},
     "output_type": "display_data"
    }
   ],
   "source": [
    "plt.figure(figsize=(16,8))\n",
    "sns.barplot(x=\"Additional_Info\",y=\"Price\",data=data)"
   ]
  },
  {
   "cell_type": "markdown",
   "id": "1a784985",
   "metadata": {},
   "source": [
    "### INSIGHTS:\n",
    "\n",
    "* Flight price is high for Jet Airways and low for Spicejet and Trujet\n",
    "\n",
    "* Flight price from Delhi is high followed by Kolkata\n",
    "\n",
    "* Flight price to New Delhi is high followed by Cochin\n",
    "\n",
    "* Flight price is high if the total stop is equal to 4\n",
    "\n",
    "* Regrading additional info , we can say that business class has got highest flight price.\n",
    "\n",
    "* On the data 01/03/2019 , flight price is very high as compared to others."
   ]
  },
  {
   "cell_type": "markdown",
   "id": "8366b6c7",
   "metadata": {},
   "source": [
    "# 7. Data Preprocessing"
   ]
  },
  {
   "cell_type": "code",
   "execution_count": 22,
   "id": "e0e71bba",
   "metadata": {},
   "outputs": [
    {
     "data": {
      "text/plain": [
       "Airline            0\n",
       "Date_of_Journey    0\n",
       "Source             0\n",
       "Destination        0\n",
       "Route              1\n",
       "Dep_Time           0\n",
       "Arrival_Time       0\n",
       "Duration           0\n",
       "Total_Stops        1\n",
       "Additional_Info    0\n",
       "Price              0\n",
       "dtype: int64"
      ]
     },
     "execution_count": 22,
     "metadata": {},
     "output_type": "execute_result"
    }
   ],
   "source": [
    "# To see if there is any null values in the dataset\n",
    "\n",
    "data.isnull().sum()"
   ]
  },
  {
   "cell_type": "code",
   "execution_count": 23,
   "id": "0f1991fe",
   "metadata": {},
   "outputs": [],
   "source": [
    "# Since there are only two missing values which is relatively small compared to the dataset,we can drop it\n",
    "\n",
    "data.dropna(inplace=True)"
   ]
  },
  {
   "cell_type": "code",
   "execution_count": 24,
   "id": "448fc819",
   "metadata": {},
   "outputs": [
    {
     "data": {
      "text/plain": [
       "Airline            0\n",
       "Date_of_Journey    0\n",
       "Source             0\n",
       "Destination        0\n",
       "Route              0\n",
       "Dep_Time           0\n",
       "Arrival_Time       0\n",
       "Duration           0\n",
       "Total_Stops        0\n",
       "Additional_Info    0\n",
       "Price              0\n",
       "dtype: int64"
      ]
     },
     "execution_count": 24,
     "metadata": {},
     "output_type": "execute_result"
    }
   ],
   "source": [
    "data.isnull().sum()"
   ]
  },
  {
   "cell_type": "code",
   "execution_count": 25,
   "id": "6f8aa831",
   "metadata": {},
   "outputs": [],
   "source": [
    "# Since the column \"Additional_info\" is not giving much valid information regarding the dataset , we\n",
    "# will drop it\n",
    "\n",
    "data.drop(['Additional_Info'],axis=1,inplace=True)"
   ]
  },
  {
   "cell_type": "code",
   "execution_count": 26,
   "id": "44cd63c7",
   "metadata": {},
   "outputs": [
    {
     "data": {
      "text/html": [
       "<div>\n",
       "<style scoped>\n",
       "    .dataframe tbody tr th:only-of-type {\n",
       "        vertical-align: middle;\n",
       "    }\n",
       "\n",
       "    .dataframe tbody tr th {\n",
       "        vertical-align: top;\n",
       "    }\n",
       "\n",
       "    .dataframe thead th {\n",
       "        text-align: right;\n",
       "    }\n",
       "</style>\n",
       "<table border=\"1\" class=\"dataframe\">\n",
       "  <thead>\n",
       "    <tr style=\"text-align: right;\">\n",
       "      <th></th>\n",
       "      <th>Airline</th>\n",
       "      <th>Date_of_Journey</th>\n",
       "      <th>Source</th>\n",
       "      <th>Destination</th>\n",
       "      <th>Route</th>\n",
       "      <th>Dep_Time</th>\n",
       "      <th>Arrival_Time</th>\n",
       "      <th>Duration</th>\n",
       "      <th>Total_Stops</th>\n",
       "      <th>Price</th>\n",
       "    </tr>\n",
       "  </thead>\n",
       "  <tbody>\n",
       "    <tr>\n",
       "      <th>0</th>\n",
       "      <td>IndiGo</td>\n",
       "      <td>24/03/2019</td>\n",
       "      <td>Banglore</td>\n",
       "      <td>New Delhi</td>\n",
       "      <td>BLR → DEL</td>\n",
       "      <td>22:20</td>\n",
       "      <td>01:10 22 Mar</td>\n",
       "      <td>2h 50m</td>\n",
       "      <td>non-stop</td>\n",
       "      <td>3897</td>\n",
       "    </tr>\n",
       "    <tr>\n",
       "      <th>1</th>\n",
       "      <td>Air India</td>\n",
       "      <td>1/05/2019</td>\n",
       "      <td>Kolkata</td>\n",
       "      <td>Banglore</td>\n",
       "      <td>CCU → IXR → BBI → BLR</td>\n",
       "      <td>05:50</td>\n",
       "      <td>13:15</td>\n",
       "      <td>7h 25m</td>\n",
       "      <td>2 stops</td>\n",
       "      <td>7662</td>\n",
       "    </tr>\n",
       "    <tr>\n",
       "      <th>2</th>\n",
       "      <td>Jet Airways</td>\n",
       "      <td>9/06/2019</td>\n",
       "      <td>Delhi</td>\n",
       "      <td>Cochin</td>\n",
       "      <td>DEL → LKO → BOM → COK</td>\n",
       "      <td>09:25</td>\n",
       "      <td>04:25 10 Jun</td>\n",
       "      <td>19h</td>\n",
       "      <td>2 stops</td>\n",
       "      <td>13882</td>\n",
       "    </tr>\n",
       "    <tr>\n",
       "      <th>3</th>\n",
       "      <td>IndiGo</td>\n",
       "      <td>12/05/2019</td>\n",
       "      <td>Kolkata</td>\n",
       "      <td>Banglore</td>\n",
       "      <td>CCU → NAG → BLR</td>\n",
       "      <td>18:05</td>\n",
       "      <td>23:30</td>\n",
       "      <td>5h 25m</td>\n",
       "      <td>1 stop</td>\n",
       "      <td>6218</td>\n",
       "    </tr>\n",
       "    <tr>\n",
       "      <th>4</th>\n",
       "      <td>IndiGo</td>\n",
       "      <td>01/03/2019</td>\n",
       "      <td>Banglore</td>\n",
       "      <td>New Delhi</td>\n",
       "      <td>BLR → NAG → DEL</td>\n",
       "      <td>16:50</td>\n",
       "      <td>21:35</td>\n",
       "      <td>4h 45m</td>\n",
       "      <td>1 stop</td>\n",
       "      <td>13302</td>\n",
       "    </tr>\n",
       "  </tbody>\n",
       "</table>\n",
       "</div>"
      ],
      "text/plain": [
       "       Airline Date_of_Journey    Source Destination                  Route  \\\n",
       "0       IndiGo      24/03/2019  Banglore   New Delhi              BLR → DEL   \n",
       "1    Air India       1/05/2019   Kolkata    Banglore  CCU → IXR → BBI → BLR   \n",
       "2  Jet Airways       9/06/2019     Delhi      Cochin  DEL → LKO → BOM → COK   \n",
       "3       IndiGo      12/05/2019   Kolkata    Banglore        CCU → NAG → BLR   \n",
       "4       IndiGo      01/03/2019  Banglore   New Delhi        BLR → NAG → DEL   \n",
       "\n",
       "  Dep_Time  Arrival_Time Duration Total_Stops  Price  \n",
       "0    22:20  01:10 22 Mar   2h 50m    non-stop   3897  \n",
       "1    05:50         13:15   7h 25m     2 stops   7662  \n",
       "2    09:25  04:25 10 Jun      19h     2 stops  13882  \n",
       "3    18:05         23:30   5h 25m      1 stop   6218  \n",
       "4    16:50         21:35   4h 45m      1 stop  13302  "
      ]
     },
     "execution_count": 26,
     "metadata": {},
     "output_type": "execute_result"
    }
   ],
   "source": [
    "data.head()"
   ]
  },
  {
   "cell_type": "markdown",
   "id": "20f9873b",
   "metadata": {},
   "source": [
    "### Extracting date and month from Date_of_Journey column"
   ]
  },
  {
   "cell_type": "markdown",
   "id": "84678dd4",
   "metadata": {},
   "source": [
    "#### Converting into Datetime datatype:\n",
    "\n",
    "* We are going to extract the date and month from the date of the journey .\n",
    "\n",
    "* For this, we require pandas to_datetime to convert the object data type to DateTime data type .\n",
    "\n",
    "* .dt.day the method will extract only the day from the date.\n",
    "\n",
    "* .dt.month the method will extract only the month of that date."
   ]
  },
  {
   "cell_type": "code",
   "execution_count": 27,
   "id": "893b7833",
   "metadata": {},
   "outputs": [],
   "source": [
    "# Importing necessary libraries\n",
    "\n",
    "from datetime import datetime, timedelta\n",
    "import datetime as dt"
   ]
  },
  {
   "cell_type": "markdown",
   "id": "7f232da1",
   "metadata": {},
   "source": [
    "#### DATE:"
   ]
  },
  {
   "cell_type": "code",
   "execution_count": 28,
   "id": "6d7f4b97",
   "metadata": {},
   "outputs": [],
   "source": [
    "# Creating another column named \"journey_Date\" which holds the extracted date from the \"Date_of_Journey\"\n",
    "# column\n",
    "\n",
    "data[\"journey_Date\"]= pd.to_datetime(data['Date_of_Journey'],format=\"%d/%m/%Y\").dt.day"
   ]
  },
  {
   "cell_type": "markdown",
   "id": "11533d2b",
   "metadata": {},
   "source": [
    "#### MONTH:"
   ]
  },
  {
   "cell_type": "code",
   "execution_count": 29,
   "id": "a4fa7b35",
   "metadata": {},
   "outputs": [],
   "source": [
    "# Creating another column named \"journey_month\" which holds the extracted month  from the\n",
    "# \"Date_of_Journey\" column\n",
    "\n",
    "data[\"journey_month\"]= pd.to_datetime(data['Date_of_Journey'],format=\"%d/%m/%Y\").dt.month"
   ]
  },
  {
   "cell_type": "code",
   "execution_count": 30,
   "id": "af0ab627",
   "metadata": {},
   "outputs": [],
   "source": [
    "# Since we have already extracted date and month, we can drop the original column \"Date_of_Journey\"\n",
    "\n",
    "data.drop([\"Date_of_Journey\"],axis=1,inplace=True)"
   ]
  },
  {
   "cell_type": "code",
   "execution_count": 31,
   "id": "0476ebbd",
   "metadata": {},
   "outputs": [
    {
     "data": {
      "text/html": [
       "<div>\n",
       "<style scoped>\n",
       "    .dataframe tbody tr th:only-of-type {\n",
       "        vertical-align: middle;\n",
       "    }\n",
       "\n",
       "    .dataframe tbody tr th {\n",
       "        vertical-align: top;\n",
       "    }\n",
       "\n",
       "    .dataframe thead th {\n",
       "        text-align: right;\n",
       "    }\n",
       "</style>\n",
       "<table border=\"1\" class=\"dataframe\">\n",
       "  <thead>\n",
       "    <tr style=\"text-align: right;\">\n",
       "      <th></th>\n",
       "      <th>Airline</th>\n",
       "      <th>Source</th>\n",
       "      <th>Destination</th>\n",
       "      <th>Route</th>\n",
       "      <th>Dep_Time</th>\n",
       "      <th>Arrival_Time</th>\n",
       "      <th>Duration</th>\n",
       "      <th>Total_Stops</th>\n",
       "      <th>Price</th>\n",
       "      <th>journey_Date</th>\n",
       "      <th>journey_month</th>\n",
       "    </tr>\n",
       "  </thead>\n",
       "  <tbody>\n",
       "    <tr>\n",
       "      <th>0</th>\n",
       "      <td>IndiGo</td>\n",
       "      <td>Banglore</td>\n",
       "      <td>New Delhi</td>\n",
       "      <td>BLR → DEL</td>\n",
       "      <td>22:20</td>\n",
       "      <td>01:10 22 Mar</td>\n",
       "      <td>2h 50m</td>\n",
       "      <td>non-stop</td>\n",
       "      <td>3897</td>\n",
       "      <td>24</td>\n",
       "      <td>3</td>\n",
       "    </tr>\n",
       "    <tr>\n",
       "      <th>1</th>\n",
       "      <td>Air India</td>\n",
       "      <td>Kolkata</td>\n",
       "      <td>Banglore</td>\n",
       "      <td>CCU → IXR → BBI → BLR</td>\n",
       "      <td>05:50</td>\n",
       "      <td>13:15</td>\n",
       "      <td>7h 25m</td>\n",
       "      <td>2 stops</td>\n",
       "      <td>7662</td>\n",
       "      <td>1</td>\n",
       "      <td>5</td>\n",
       "    </tr>\n",
       "    <tr>\n",
       "      <th>2</th>\n",
       "      <td>Jet Airways</td>\n",
       "      <td>Delhi</td>\n",
       "      <td>Cochin</td>\n",
       "      <td>DEL → LKO → BOM → COK</td>\n",
       "      <td>09:25</td>\n",
       "      <td>04:25 10 Jun</td>\n",
       "      <td>19h</td>\n",
       "      <td>2 stops</td>\n",
       "      <td>13882</td>\n",
       "      <td>9</td>\n",
       "      <td>6</td>\n",
       "    </tr>\n",
       "    <tr>\n",
       "      <th>3</th>\n",
       "      <td>IndiGo</td>\n",
       "      <td>Kolkata</td>\n",
       "      <td>Banglore</td>\n",
       "      <td>CCU → NAG → BLR</td>\n",
       "      <td>18:05</td>\n",
       "      <td>23:30</td>\n",
       "      <td>5h 25m</td>\n",
       "      <td>1 stop</td>\n",
       "      <td>6218</td>\n",
       "      <td>12</td>\n",
       "      <td>5</td>\n",
       "    </tr>\n",
       "    <tr>\n",
       "      <th>4</th>\n",
       "      <td>IndiGo</td>\n",
       "      <td>Banglore</td>\n",
       "      <td>New Delhi</td>\n",
       "      <td>BLR → NAG → DEL</td>\n",
       "      <td>16:50</td>\n",
       "      <td>21:35</td>\n",
       "      <td>4h 45m</td>\n",
       "      <td>1 stop</td>\n",
       "      <td>13302</td>\n",
       "      <td>1</td>\n",
       "      <td>3</td>\n",
       "    </tr>\n",
       "  </tbody>\n",
       "</table>\n",
       "</div>"
      ],
      "text/plain": [
       "       Airline    Source Destination                  Route Dep_Time  \\\n",
       "0       IndiGo  Banglore   New Delhi              BLR → DEL    22:20   \n",
       "1    Air India   Kolkata    Banglore  CCU → IXR → BBI → BLR    05:50   \n",
       "2  Jet Airways     Delhi      Cochin  DEL → LKO → BOM → COK    09:25   \n",
       "3       IndiGo   Kolkata    Banglore        CCU → NAG → BLR    18:05   \n",
       "4       IndiGo  Banglore   New Delhi        BLR → NAG → DEL    16:50   \n",
       "\n",
       "   Arrival_Time Duration Total_Stops  Price  journey_Date  journey_month  \n",
       "0  01:10 22 Mar   2h 50m    non-stop   3897            24              3  \n",
       "1         13:15   7h 25m     2 stops   7662             1              5  \n",
       "2  04:25 10 Jun      19h     2 stops  13882             9              6  \n",
       "3         23:30   5h 25m      1 stop   6218            12              5  \n",
       "4         21:35   4h 45m      1 stop  13302             1              3  "
      ]
     },
     "execution_count": 31,
     "metadata": {},
     "output_type": "execute_result"
    }
   ],
   "source": [
    "# Checking to see changes\n",
    "\n",
    "data.head()"
   ]
  },
  {
   "cell_type": "markdown",
   "id": "d7c13186",
   "metadata": {},
   "source": [
    "#### Since we have extracted date and month from \"Date_of_Journey\",we can also extract hour and minute from the column \"Dep_Time\" as well as \"Arrival_Time\""
   ]
  },
  {
   "cell_type": "markdown",
   "id": "e2aba370",
   "metadata": {},
   "source": [
    "#### HOUR - \"Dep_Time\""
   ]
  },
  {
   "cell_type": "code",
   "execution_count": 32,
   "id": "f430b096",
   "metadata": {},
   "outputs": [],
   "source": [
    "# Creating another column named \"Dep_hour\" which holds the extracted hour from the \"Dep_Time\" column\n",
    "\n",
    "data[\"Dep_hour\"]= pd.to_datetime(data['Dep_Time']).dt.hour"
   ]
  },
  {
   "cell_type": "markdown",
   "id": "7944c279",
   "metadata": {},
   "source": [
    "#### MINUTE - \"Dep_Time\""
   ]
  },
  {
   "cell_type": "code",
   "execution_count": 33,
   "id": "7a69bfee",
   "metadata": {},
   "outputs": [],
   "source": [
    "# Creating another column named \"Dep_min\" which holds the extracted minute from the \"Dep_Time\" column\n",
    "\n",
    "data[\"Dep_min\"]= pd.to_datetime(data['Dep_Time']).dt.minute"
   ]
  },
  {
   "cell_type": "code",
   "execution_count": 34,
   "id": "976936ec",
   "metadata": {},
   "outputs": [],
   "source": [
    "# Since we dont need the column \"Dep_Time\" anymore , we will drop it\n",
    "\n",
    "data.drop([\"Dep_Time\"],axis=1,inplace=True)"
   ]
  },
  {
   "cell_type": "markdown",
   "id": "68b4745d",
   "metadata": {},
   "source": [
    "#### HOUR-\"Arrival_Time\""
   ]
  },
  {
   "cell_type": "code",
   "execution_count": 35,
   "id": "7fb191b7",
   "metadata": {},
   "outputs": [],
   "source": [
    "# Creating another column named \"Arrival_hour\" which holds the extracted hour from the \"Arrival_Time\" column\n",
    "\n",
    "data[\"Arrival_hour\"]= pd.to_datetime(data['Arrival_Time']).dt.hour"
   ]
  },
  {
   "cell_type": "markdown",
   "id": "e814f674",
   "metadata": {},
   "source": [
    "#### MINUTE - \"Arrival_Time\""
   ]
  },
  {
   "cell_type": "code",
   "execution_count": 36,
   "id": "881b7664",
   "metadata": {},
   "outputs": [],
   "source": [
    "# Creating another column named \"Arrival_min\" which holds the extracted minute from the \"Arrival_Time\" column\n",
    "\n",
    "data[\"Arrival_min\"]= pd.to_datetime(data['Arrival_Time']).dt.minute"
   ]
  },
  {
   "cell_type": "code",
   "execution_count": 37,
   "id": "e485f047",
   "metadata": {},
   "outputs": [],
   "source": [
    "# Since we dont need the column \"Arrival_Time\" , we will drop it\n",
    "\n",
    "data.drop([\"Arrival_Time\"],axis=1,inplace=True)"
   ]
  },
  {
   "cell_type": "code",
   "execution_count": 38,
   "id": "f03a55b2",
   "metadata": {},
   "outputs": [
    {
     "data": {
      "text/html": [
       "<div>\n",
       "<style scoped>\n",
       "    .dataframe tbody tr th:only-of-type {\n",
       "        vertical-align: middle;\n",
       "    }\n",
       "\n",
       "    .dataframe tbody tr th {\n",
       "        vertical-align: top;\n",
       "    }\n",
       "\n",
       "    .dataframe thead th {\n",
       "        text-align: right;\n",
       "    }\n",
       "</style>\n",
       "<table border=\"1\" class=\"dataframe\">\n",
       "  <thead>\n",
       "    <tr style=\"text-align: right;\">\n",
       "      <th></th>\n",
       "      <th>Airline</th>\n",
       "      <th>Source</th>\n",
       "      <th>Destination</th>\n",
       "      <th>Route</th>\n",
       "      <th>Duration</th>\n",
       "      <th>Total_Stops</th>\n",
       "      <th>Price</th>\n",
       "      <th>journey_Date</th>\n",
       "      <th>journey_month</th>\n",
       "      <th>Dep_hour</th>\n",
       "      <th>Dep_min</th>\n",
       "      <th>Arrival_hour</th>\n",
       "      <th>Arrival_min</th>\n",
       "    </tr>\n",
       "  </thead>\n",
       "  <tbody>\n",
       "    <tr>\n",
       "      <th>0</th>\n",
       "      <td>IndiGo</td>\n",
       "      <td>Banglore</td>\n",
       "      <td>New Delhi</td>\n",
       "      <td>BLR → DEL</td>\n",
       "      <td>2h 50m</td>\n",
       "      <td>non-stop</td>\n",
       "      <td>3897</td>\n",
       "      <td>24</td>\n",
       "      <td>3</td>\n",
       "      <td>22</td>\n",
       "      <td>20</td>\n",
       "      <td>1</td>\n",
       "      <td>10</td>\n",
       "    </tr>\n",
       "    <tr>\n",
       "      <th>1</th>\n",
       "      <td>Air India</td>\n",
       "      <td>Kolkata</td>\n",
       "      <td>Banglore</td>\n",
       "      <td>CCU → IXR → BBI → BLR</td>\n",
       "      <td>7h 25m</td>\n",
       "      <td>2 stops</td>\n",
       "      <td>7662</td>\n",
       "      <td>1</td>\n",
       "      <td>5</td>\n",
       "      <td>5</td>\n",
       "      <td>50</td>\n",
       "      <td>13</td>\n",
       "      <td>15</td>\n",
       "    </tr>\n",
       "    <tr>\n",
       "      <th>2</th>\n",
       "      <td>Jet Airways</td>\n",
       "      <td>Delhi</td>\n",
       "      <td>Cochin</td>\n",
       "      <td>DEL → LKO → BOM → COK</td>\n",
       "      <td>19h</td>\n",
       "      <td>2 stops</td>\n",
       "      <td>13882</td>\n",
       "      <td>9</td>\n",
       "      <td>6</td>\n",
       "      <td>9</td>\n",
       "      <td>25</td>\n",
       "      <td>4</td>\n",
       "      <td>25</td>\n",
       "    </tr>\n",
       "    <tr>\n",
       "      <th>3</th>\n",
       "      <td>IndiGo</td>\n",
       "      <td>Kolkata</td>\n",
       "      <td>Banglore</td>\n",
       "      <td>CCU → NAG → BLR</td>\n",
       "      <td>5h 25m</td>\n",
       "      <td>1 stop</td>\n",
       "      <td>6218</td>\n",
       "      <td>12</td>\n",
       "      <td>5</td>\n",
       "      <td>18</td>\n",
       "      <td>5</td>\n",
       "      <td>23</td>\n",
       "      <td>30</td>\n",
       "    </tr>\n",
       "    <tr>\n",
       "      <th>4</th>\n",
       "      <td>IndiGo</td>\n",
       "      <td>Banglore</td>\n",
       "      <td>New Delhi</td>\n",
       "      <td>BLR → NAG → DEL</td>\n",
       "      <td>4h 45m</td>\n",
       "      <td>1 stop</td>\n",
       "      <td>13302</td>\n",
       "      <td>1</td>\n",
       "      <td>3</td>\n",
       "      <td>16</td>\n",
       "      <td>50</td>\n",
       "      <td>21</td>\n",
       "      <td>35</td>\n",
       "    </tr>\n",
       "  </tbody>\n",
       "</table>\n",
       "</div>"
      ],
      "text/plain": [
       "       Airline    Source Destination                  Route Duration  \\\n",
       "0       IndiGo  Banglore   New Delhi              BLR → DEL   2h 50m   \n",
       "1    Air India   Kolkata    Banglore  CCU → IXR → BBI → BLR   7h 25m   \n",
       "2  Jet Airways     Delhi      Cochin  DEL → LKO → BOM → COK      19h   \n",
       "3       IndiGo   Kolkata    Banglore        CCU → NAG → BLR   5h 25m   \n",
       "4       IndiGo  Banglore   New Delhi        BLR → NAG → DEL   4h 45m   \n",
       "\n",
       "  Total_Stops  Price  journey_Date  journey_month  Dep_hour  Dep_min  \\\n",
       "0    non-stop   3897            24              3        22       20   \n",
       "1     2 stops   7662             1              5         5       50   \n",
       "2     2 stops  13882             9              6         9       25   \n",
       "3      1 stop   6218            12              5        18        5   \n",
       "4      1 stop  13302             1              3        16       50   \n",
       "\n",
       "   Arrival_hour  Arrival_min  \n",
       "0             1           10  \n",
       "1            13           15  \n",
       "2             4           25  \n",
       "3            23           30  \n",
       "4            21           35  "
      ]
     },
     "execution_count": 38,
     "metadata": {},
     "output_type": "execute_result"
    }
   ],
   "source": [
    "# Checking to see the changes\n",
    "\n",
    "data.head()"
   ]
  },
  {
   "cell_type": "markdown",
   "id": "7c0b70c2",
   "metadata": {},
   "source": [
    "### Extracting hours and minutes from column \"Duration\":"
   ]
  },
  {
   "cell_type": "code",
   "execution_count": 39,
   "id": "4b18f28b",
   "metadata": {},
   "outputs": [],
   "source": [
    "duration=list(data[\"Duration\"])\n",
    "for i in range(len(duration)):\n",
    "  if len(duration[i].split())!=2:\n",
    "    if \"h\" in duration[i]:\n",
    "      duration[i]=duration[i].strip()+\" 0m\"\n",
    "    else:\n",
    "      duration[i]=\"0h \"+duration[i]\n",
    "duration_hours=[]\n",
    "duration_mins=[]\n",
    "for i in range(len(duration)):\n",
    "  duration_hours.append(int(duration[i].split(sep=\"h\")[0]))\n",
    "  duration_mins.append(int(duration[i].split(sep=\"m\")[0].split()[-1]))"
   ]
  },
  {
   "cell_type": "markdown",
   "id": "bd10b5c6",
   "metadata": {},
   "source": [
    "* Now , we can add new columns \"Duration_hours\" and \"Duration_mins\" and remove the original column \"Duration\""
   ]
  },
  {
   "cell_type": "code",
   "execution_count": 40,
   "id": "30030609",
   "metadata": {},
   "outputs": [],
   "source": [
    "data[\"Duration_hours\"] = duration_hours\n",
    "data[\"Duration_mins\"] = duration_mins\n",
    "\n",
    "data.drop([\"Duration\"],axis=1,inplace=True)"
   ]
  },
  {
   "cell_type": "code",
   "execution_count": 41,
   "id": "acc703e5",
   "metadata": {},
   "outputs": [
    {
     "data": {
      "text/html": [
       "<div>\n",
       "<style scoped>\n",
       "    .dataframe tbody tr th:only-of-type {\n",
       "        vertical-align: middle;\n",
       "    }\n",
       "\n",
       "    .dataframe tbody tr th {\n",
       "        vertical-align: top;\n",
       "    }\n",
       "\n",
       "    .dataframe thead th {\n",
       "        text-align: right;\n",
       "    }\n",
       "</style>\n",
       "<table border=\"1\" class=\"dataframe\">\n",
       "  <thead>\n",
       "    <tr style=\"text-align: right;\">\n",
       "      <th></th>\n",
       "      <th>Airline</th>\n",
       "      <th>Source</th>\n",
       "      <th>Destination</th>\n",
       "      <th>Route</th>\n",
       "      <th>Total_Stops</th>\n",
       "      <th>Price</th>\n",
       "      <th>journey_Date</th>\n",
       "      <th>journey_month</th>\n",
       "      <th>Dep_hour</th>\n",
       "      <th>Dep_min</th>\n",
       "      <th>Arrival_hour</th>\n",
       "      <th>Arrival_min</th>\n",
       "      <th>Duration_hours</th>\n",
       "      <th>Duration_mins</th>\n",
       "    </tr>\n",
       "  </thead>\n",
       "  <tbody>\n",
       "    <tr>\n",
       "      <th>0</th>\n",
       "      <td>IndiGo</td>\n",
       "      <td>Banglore</td>\n",
       "      <td>New Delhi</td>\n",
       "      <td>BLR → DEL</td>\n",
       "      <td>non-stop</td>\n",
       "      <td>3897</td>\n",
       "      <td>24</td>\n",
       "      <td>3</td>\n",
       "      <td>22</td>\n",
       "      <td>20</td>\n",
       "      <td>1</td>\n",
       "      <td>10</td>\n",
       "      <td>2</td>\n",
       "      <td>50</td>\n",
       "    </tr>\n",
       "    <tr>\n",
       "      <th>1</th>\n",
       "      <td>Air India</td>\n",
       "      <td>Kolkata</td>\n",
       "      <td>Banglore</td>\n",
       "      <td>CCU → IXR → BBI → BLR</td>\n",
       "      <td>2 stops</td>\n",
       "      <td>7662</td>\n",
       "      <td>1</td>\n",
       "      <td>5</td>\n",
       "      <td>5</td>\n",
       "      <td>50</td>\n",
       "      <td>13</td>\n",
       "      <td>15</td>\n",
       "      <td>7</td>\n",
       "      <td>25</td>\n",
       "    </tr>\n",
       "    <tr>\n",
       "      <th>2</th>\n",
       "      <td>Jet Airways</td>\n",
       "      <td>Delhi</td>\n",
       "      <td>Cochin</td>\n",
       "      <td>DEL → LKO → BOM → COK</td>\n",
       "      <td>2 stops</td>\n",
       "      <td>13882</td>\n",
       "      <td>9</td>\n",
       "      <td>6</td>\n",
       "      <td>9</td>\n",
       "      <td>25</td>\n",
       "      <td>4</td>\n",
       "      <td>25</td>\n",
       "      <td>19</td>\n",
       "      <td>0</td>\n",
       "    </tr>\n",
       "    <tr>\n",
       "      <th>3</th>\n",
       "      <td>IndiGo</td>\n",
       "      <td>Kolkata</td>\n",
       "      <td>Banglore</td>\n",
       "      <td>CCU → NAG → BLR</td>\n",
       "      <td>1 stop</td>\n",
       "      <td>6218</td>\n",
       "      <td>12</td>\n",
       "      <td>5</td>\n",
       "      <td>18</td>\n",
       "      <td>5</td>\n",
       "      <td>23</td>\n",
       "      <td>30</td>\n",
       "      <td>5</td>\n",
       "      <td>25</td>\n",
       "    </tr>\n",
       "    <tr>\n",
       "      <th>4</th>\n",
       "      <td>IndiGo</td>\n",
       "      <td>Banglore</td>\n",
       "      <td>New Delhi</td>\n",
       "      <td>BLR → NAG → DEL</td>\n",
       "      <td>1 stop</td>\n",
       "      <td>13302</td>\n",
       "      <td>1</td>\n",
       "      <td>3</td>\n",
       "      <td>16</td>\n",
       "      <td>50</td>\n",
       "      <td>21</td>\n",
       "      <td>35</td>\n",
       "      <td>4</td>\n",
       "      <td>45</td>\n",
       "    </tr>\n",
       "  </tbody>\n",
       "</table>\n",
       "</div>"
      ],
      "text/plain": [
       "       Airline    Source Destination                  Route Total_Stops  \\\n",
       "0       IndiGo  Banglore   New Delhi              BLR → DEL    non-stop   \n",
       "1    Air India   Kolkata    Banglore  CCU → IXR → BBI → BLR     2 stops   \n",
       "2  Jet Airways     Delhi      Cochin  DEL → LKO → BOM → COK     2 stops   \n",
       "3       IndiGo   Kolkata    Banglore        CCU → NAG → BLR      1 stop   \n",
       "4       IndiGo  Banglore   New Delhi        BLR → NAG → DEL      1 stop   \n",
       "\n",
       "   Price  journey_Date  journey_month  Dep_hour  Dep_min  Arrival_hour  \\\n",
       "0   3897            24              3        22       20             1   \n",
       "1   7662             1              5         5       50            13   \n",
       "2  13882             9              6         9       25             4   \n",
       "3   6218            12              5        18        5            23   \n",
       "4  13302             1              3        16       50            21   \n",
       "\n",
       "   Arrival_min  Duration_hours  Duration_mins  \n",
       "0           10               2             50  \n",
       "1           15               7             25  \n",
       "2           25              19              0  \n",
       "3           30               5             25  \n",
       "4           35               4             45  "
      ]
     },
     "execution_count": 41,
     "metadata": {},
     "output_type": "execute_result"
    }
   ],
   "source": [
    "# checking to see the changes\n",
    "\n",
    "data.head()"
   ]
  },
  {
   "cell_type": "markdown",
   "id": "24f68d68",
   "metadata": {},
   "source": [
    "### Outlier Handling :\n",
    "We can check outliers in numerical columns by plotting a box plot"
   ]
  },
  {
   "cell_type": "code",
   "execution_count": 42,
   "id": "a20eaea6",
   "metadata": {},
   "outputs": [
    {
     "data": {
      "text/plain": [
       "Index(['Price', 'journey_Date', 'journey_month', 'Dep_hour', 'Dep_min',\n",
       "       'Arrival_hour', 'Arrival_min', 'Duration_hours', 'Duration_mins'],\n",
       "      dtype='object')"
      ]
     },
     "execution_count": 42,
     "metadata": {},
     "output_type": "execute_result"
    }
   ],
   "source": [
    "# Assigning numerical column name to a variable called num_col\n",
    "\n",
    "num_col=data.select_dtypes(include=['int64','int32']).columns\n",
    "num_col"
   ]
  },
  {
   "cell_type": "code",
   "execution_count": 43,
   "id": "edf06426",
   "metadata": {},
   "outputs": [
    {
     "data": {
      "image/png": "[encoded data removed]",
      "text/plain": [
       "<Figure size 2500x2000 with 8 Axes>"
      ]
     },
     "metadata": {},
     "output_type": "display_data"
    }
   ],
   "source": [
    "# Finding the outliers excluding the target column\n",
    "\n",
    "plt.figure(figsize=(25,20))\n",
    "plotnum = 1\n",
    "for column in num_col.drop(\"Price\"):\n",
    "  if plotnum<=9:\n",
    "    ax=plt.subplot(3,3,plotnum)\n",
    "    sns.boxplot(x=data[column])\n",
    "    plt.xlabel(column, fontsize = 20)\n",
    "  plotnum+=1\n",
    "plt.tight_layout()"
   ]
  },
  {
   "cell_type": "markdown",
   "id": "17aed6bd",
   "metadata": {},
   "source": [
    " * From the above box plots , we can understand that the column \"Duration_hours\" has outliers or extreme values.\n",
    "\n",
    "* In order to handle outliers , first we need to check the distribution of that particular column.\n",
    "\n",
    "* If the distribution is normal we will handle outliers by doing 3-Sigma rule, otherwise we will go for IQR method."
   ]
  },
  {
   "cell_type": "code",
   "execution_count": 44,
   "id": "77254ba6",
   "metadata": {},
   "outputs": [
    {
     "data": {
      "text/plain": [
       "<Axes: xlabel='Duration_hours', ylabel='Count'>"
      ]
     },
     "execution_count": 44,
     "metadata": {},
     "output_type": "execute_result"
    },
    {
     "data": {
      "image/png": "[encoded data removed]",
      "text/plain": [
       "<Figure size 1000x500 with 1 Axes>"
      ]
     },
     "metadata": {},
     "output_type": "display_data"
    }
   ],
   "source": [
    "# plotting a histplot in order to check the distribution of data in the column \"Duration_hours\"\n",
    "\n",
    "plt.figure(figsize=(10,5))\n",
    "sns.histplot(data=data,x='Duration_hours',kde=True)"
   ]
  },
  {
   "cell_type": "code",
   "execution_count": 45,
   "id": "fdc0c15a",
   "metadata": {},
   "outputs": [
    {
     "name": "stdout",
     "output_type": "stream",
     "text": [
      "lower quartile 2.0\n",
      "upper quartile 15.0\n"
     ]
    }
   ],
   "source": [
    "# Since the distribution is not normal we will handle outliers by using IQR method\n",
    "# Finding lower and upper quartile\n",
    "\n",
    "Q1=data['Duration_hours'].quantile(0.25)\n",
    "print(\"lower quartile\",Q1)\n",
    "Q3=data['Duration_hours'].quantile(0.75)\n",
    "print('upper quartile',Q3)"
   ]
  },
  {
   "cell_type": "code",
   "execution_count": 46,
   "id": "5e9eb8e9",
   "metadata": {},
   "outputs": [
    {
     "data": {
      "text/plain": [
       "13.0"
      ]
     },
     "execution_count": 46,
     "metadata": {},
     "output_type": "execute_result"
    }
   ],
   "source": [
    "# Find IQR\n",
    "\n",
    "IQR=Q3-Q1\n",
    "IQR"
   ]
  },
  {
   "cell_type": "code",
   "execution_count": 47,
   "id": "05a8356c",
   "metadata": {},
   "outputs": [
    {
     "name": "stdout",
     "output_type": "stream",
     "text": [
      "lower limit is -17.5\n",
      "upper limit is 34.5\n"
     ]
    }
   ],
   "source": [
    "# Find Lower limit & upper limit\n",
    "\n",
    "lower_limit=Q1-1.5*IQR\n",
    "print('lower limit is',lower_limit)\n",
    "upper_limit=Q3+1.5*IQR\n",
    "print('upper limit is',upper_limit)"
   ]
  },
  {
   "cell_type": "code",
   "execution_count": 48,
   "id": "212324d9",
   "metadata": {},
   "outputs": [
    {
     "data": {
      "text/html": [
       "<div>\n",
       "<style scoped>\n",
       "    .dataframe tbody tr th:only-of-type {\n",
       "        vertical-align: middle;\n",
       "    }\n",
       "\n",
       "    .dataframe tbody tr th {\n",
       "        vertical-align: top;\n",
       "    }\n",
       "\n",
       "    .dataframe thead th {\n",
       "        text-align: right;\n",
       "    }\n",
       "</style>\n",
       "<table border=\"1\" class=\"dataframe\">\n",
       "  <thead>\n",
       "    <tr style=\"text-align: right;\">\n",
       "      <th></th>\n",
       "      <th>Airline</th>\n",
       "      <th>Source</th>\n",
       "      <th>Destination</th>\n",
       "      <th>Route</th>\n",
       "      <th>Total_Stops</th>\n",
       "      <th>Price</th>\n",
       "      <th>journey_Date</th>\n",
       "      <th>journey_month</th>\n",
       "      <th>Dep_hour</th>\n",
       "      <th>Dep_min</th>\n",
       "      <th>Arrival_hour</th>\n",
       "      <th>Arrival_min</th>\n",
       "      <th>Duration_hours</th>\n",
       "      <th>Duration_mins</th>\n",
       "    </tr>\n",
       "  </thead>\n",
       "  <tbody>\n",
       "    <tr>\n",
       "      <th>226</th>\n",
       "      <td>Jet Airways</td>\n",
       "      <td>Delhi</td>\n",
       "      <td>Cochin</td>\n",
       "      <td>DEL → IDR → BOM → COK</td>\n",
       "      <td>2 stops</td>\n",
       "      <td>18799</td>\n",
       "      <td>3</td>\n",
       "      <td>3</td>\n",
       "      <td>5</td>\n",
       "      <td>25</td>\n",
       "      <td>18</td>\n",
       "      <td>50</td>\n",
       "      <td>37</td>\n",
       "      <td>25</td>\n",
       "    </tr>\n",
       "    <tr>\n",
       "      <th>553</th>\n",
       "      <td>Air India</td>\n",
       "      <td>Delhi</td>\n",
       "      <td>Cochin</td>\n",
       "      <td>DEL → AMD → BOM → COK</td>\n",
       "      <td>2 stops</td>\n",
       "      <td>10598</td>\n",
       "      <td>9</td>\n",
       "      <td>3</td>\n",
       "      <td>5</td>\n",
       "      <td>0</td>\n",
       "      <td>19</td>\n",
       "      <td>15</td>\n",
       "      <td>38</td>\n",
       "      <td>15</td>\n",
       "    </tr>\n",
       "    <tr>\n",
       "      <th>919</th>\n",
       "      <td>Air India</td>\n",
       "      <td>Kolkata</td>\n",
       "      <td>Banglore</td>\n",
       "      <td>CCU → BBI → IXR → DEL → BLR</td>\n",
       "      <td>3 stops</td>\n",
       "      <td>10991</td>\n",
       "      <td>12</td>\n",
       "      <td>5</td>\n",
       "      <td>12</td>\n",
       "      <td>0</td>\n",
       "      <td>23</td>\n",
       "      <td>15</td>\n",
       "      <td>35</td>\n",
       "      <td>15</td>\n",
       "    </tr>\n",
       "    <tr>\n",
       "      <th>925</th>\n",
       "      <td>Jet Airways</td>\n",
       "      <td>Delhi</td>\n",
       "      <td>Cochin</td>\n",
       "      <td>DEL → DED → BOM → COK</td>\n",
       "      <td>2 stops</td>\n",
       "      <td>19907</td>\n",
       "      <td>6</td>\n",
       "      <td>3</td>\n",
       "      <td>16</td>\n",
       "      <td>50</td>\n",
       "      <td>4</td>\n",
       "      <td>25</td>\n",
       "      <td>35</td>\n",
       "      <td>35</td>\n",
       "    </tr>\n",
       "    <tr>\n",
       "      <th>966</th>\n",
       "      <td>Air India</td>\n",
       "      <td>Delhi</td>\n",
       "      <td>Cochin</td>\n",
       "      <td>DEL → NAG → BOM → COK</td>\n",
       "      <td>2 stops</td>\n",
       "      <td>10493</td>\n",
       "      <td>21</td>\n",
       "      <td>5</td>\n",
       "      <td>5</td>\n",
       "      <td>55</td>\n",
       "      <td>19</td>\n",
       "      <td>15</td>\n",
       "      <td>37</td>\n",
       "      <td>20</td>\n",
       "    </tr>\n",
       "    <tr>\n",
       "      <th>...</th>\n",
       "      <td>...</td>\n",
       "      <td>...</td>\n",
       "      <td>...</td>\n",
       "      <td>...</td>\n",
       "      <td>...</td>\n",
       "      <td>...</td>\n",
       "      <td>...</td>\n",
       "      <td>...</td>\n",
       "      <td>...</td>\n",
       "      <td>...</td>\n",
       "      <td>...</td>\n",
       "      <td>...</td>\n",
       "      <td>...</td>\n",
       "      <td>...</td>\n",
       "    </tr>\n",
       "    <tr>\n",
       "      <th>9848</th>\n",
       "      <td>Air India</td>\n",
       "      <td>Banglore</td>\n",
       "      <td>New Delhi</td>\n",
       "      <td>BLR → BOM → AMD → DEL</td>\n",
       "      <td>2 stops</td>\n",
       "      <td>17135</td>\n",
       "      <td>1</td>\n",
       "      <td>3</td>\n",
       "      <td>8</td>\n",
       "      <td>50</td>\n",
       "      <td>23</td>\n",
       "      <td>55</td>\n",
       "      <td>39</td>\n",
       "      <td>5</td>\n",
       "    </tr>\n",
       "    <tr>\n",
       "      <th>10020</th>\n",
       "      <td>Air India</td>\n",
       "      <td>Delhi</td>\n",
       "      <td>Cochin</td>\n",
       "      <td>DEL → AMD → BOM → COK</td>\n",
       "      <td>2 stops</td>\n",
       "      <td>9653</td>\n",
       "      <td>9</td>\n",
       "      <td>5</td>\n",
       "      <td>5</td>\n",
       "      <td>0</td>\n",
       "      <td>19</td>\n",
       "      <td>15</td>\n",
       "      <td>38</td>\n",
       "      <td>15</td>\n",
       "    </tr>\n",
       "    <tr>\n",
       "      <th>10326</th>\n",
       "      <td>Air India</td>\n",
       "      <td>Banglore</td>\n",
       "      <td>New Delhi</td>\n",
       "      <td>BLR → CCU → GAU → DEL</td>\n",
       "      <td>2 stops</td>\n",
       "      <td>11791</td>\n",
       "      <td>3</td>\n",
       "      <td>3</td>\n",
       "      <td>5</td>\n",
       "      <td>50</td>\n",
       "      <td>22</td>\n",
       "      <td>10</td>\n",
       "      <td>40</td>\n",
       "      <td>20</td>\n",
       "    </tr>\n",
       "    <tr>\n",
       "      <th>10456</th>\n",
       "      <td>Jet Airways</td>\n",
       "      <td>Delhi</td>\n",
       "      <td>Cochin</td>\n",
       "      <td>DEL → AMD → BOM → COK</td>\n",
       "      <td>2 stops</td>\n",
       "      <td>20694</td>\n",
       "      <td>6</td>\n",
       "      <td>3</td>\n",
       "      <td>19</td>\n",
       "      <td>10</td>\n",
       "      <td>18</td>\n",
       "      <td>50</td>\n",
       "      <td>47</td>\n",
       "      <td>40</td>\n",
       "    </tr>\n",
       "    <tr>\n",
       "      <th>10639</th>\n",
       "      <td>Air India</td>\n",
       "      <td>Delhi</td>\n",
       "      <td>Cochin</td>\n",
       "      <td>DEL → RPR → NAG → BOM → COK</td>\n",
       "      <td>3 stops</td>\n",
       "      <td>10493</td>\n",
       "      <td>3</td>\n",
       "      <td>6</td>\n",
       "      <td>5</td>\n",
       "      <td>15</td>\n",
       "      <td>19</td>\n",
       "      <td>15</td>\n",
       "      <td>38</td>\n",
       "      <td>0</td>\n",
       "    </tr>\n",
       "  </tbody>\n",
       "</table>\n",
       "<p>73 rows × 14 columns</p>\n",
       "</div>"
      ],
      "text/plain": [
       "           Airline    Source Destination                        Route  \\\n",
       "226    Jet Airways     Delhi      Cochin        DEL → IDR → BOM → COK   \n",
       "553      Air India     Delhi      Cochin        DEL → AMD → BOM → COK   \n",
       "919      Air India   Kolkata    Banglore  CCU → BBI → IXR → DEL → BLR   \n",
       "925    Jet Airways     Delhi      Cochin        DEL → DED → BOM → COK   \n",
       "966      Air India     Delhi      Cochin        DEL → NAG → BOM → COK   \n",
       "...            ...       ...         ...                          ...   \n",
       "9848     Air India  Banglore   New Delhi        BLR → BOM → AMD → DEL   \n",
       "10020    Air India     Delhi      Cochin        DEL → AMD → BOM → COK   \n",
       "10326    Air India  Banglore   New Delhi        BLR → CCU → GAU → DEL   \n",
       "10456  Jet Airways     Delhi      Cochin        DEL → AMD → BOM → COK   \n",
       "10639    Air India     Delhi      Cochin  DEL → RPR → NAG → BOM → COK   \n",
       "\n",
       "      Total_Stops  Price  journey_Date  journey_month  Dep_hour  Dep_min  \\\n",
       "226       2 stops  18799             3              3         5       25   \n",
       "553       2 stops  10598             9              3         5        0   \n",
       "919       3 stops  10991            12              5        12        0   \n",
       "925       2 stops  19907             6              3        16       50   \n",
       "966       2 stops  10493            21              5         5       55   \n",
       "...           ...    ...           ...            ...       ...      ...   \n",
       "9848      2 stops  17135             1              3         8       50   \n",
       "10020     2 stops   9653             9              5         5        0   \n",
       "10326     2 stops  11791             3              3         5       50   \n",
       "10456     2 stops  20694             6              3        19       10   \n",
       "10639     3 stops  10493             3              6         5       15   \n",
       "\n",
       "       Arrival_hour  Arrival_min  Duration_hours  Duration_mins  \n",
       "226              18           50              37             25  \n",
       "553              19           15              38             15  \n",
       "919              23           15              35             15  \n",
       "925               4           25              35             35  \n",
       "966              19           15              37             20  \n",
       "...             ...          ...             ...            ...  \n",
       "9848             23           55              39              5  \n",
       "10020            19           15              38             15  \n",
       "10326            22           10              40             20  \n",
       "10456            18           50              47             40  \n",
       "10639            19           15              38              0  \n",
       "\n",
       "[73 rows x 14 columns]"
      ]
     },
     "execution_count": 48,
     "metadata": {},
     "output_type": "execute_result"
    }
   ],
   "source": [
    "# Find values above upper_limit\n",
    "\n",
    "data.loc[data['Duration_hours']>upper_limit]"
   ]
  },
  {
   "cell_type": "code",
   "execution_count": 49,
   "id": "1a86a530",
   "metadata": {},
   "outputs": [
    {
     "data": {
      "text/html": [
       "<div>\n",
       "<style scoped>\n",
       "    .dataframe tbody tr th:only-of-type {\n",
       "        vertical-align: middle;\n",
       "    }\n",
       "\n",
       "    .dataframe tbody tr th {\n",
       "        vertical-align: top;\n",
       "    }\n",
       "\n",
       "    .dataframe thead th {\n",
       "        text-align: right;\n",
       "    }\n",
       "</style>\n",
       "<table border=\"1\" class=\"dataframe\">\n",
       "  <thead>\n",
       "    <tr style=\"text-align: right;\">\n",
       "      <th></th>\n",
       "      <th>Airline</th>\n",
       "      <th>Source</th>\n",
       "      <th>Destination</th>\n",
       "      <th>Route</th>\n",
       "      <th>Total_Stops</th>\n",
       "      <th>Price</th>\n",
       "      <th>journey_Date</th>\n",
       "      <th>journey_month</th>\n",
       "      <th>Dep_hour</th>\n",
       "      <th>Dep_min</th>\n",
       "      <th>Arrival_hour</th>\n",
       "      <th>Arrival_min</th>\n",
       "      <th>Duration_hours</th>\n",
       "      <th>Duration_mins</th>\n",
       "    </tr>\n",
       "  </thead>\n",
       "  <tbody>\n",
       "  </tbody>\n",
       "</table>\n",
       "</div>"
      ],
      "text/plain": [
       "Empty DataFrame\n",
       "Columns: [Airline, Source, Destination, Route, Total_Stops, Price, journey_Date, journey_month, Dep_hour, Dep_min, Arrival_hour, Arrival_min, Duration_hours, Duration_mins]\n",
       "Index: []"
      ]
     },
     "execution_count": 49,
     "metadata": {},
     "output_type": "execute_result"
    }
   ],
   "source": [
    "# Find values below lower limit\n",
    "\n",
    "data.loc[data['Duration_hours']<lower_limit]"
   ]
  },
  {
   "cell_type": "code",
   "execution_count": 50,
   "id": "18d46e79",
   "metadata": {},
   "outputs": [
    {
     "data": {
      "text/plain": [
       "0.0068339262310428755"
      ]
     },
     "execution_count": 50,
     "metadata": {},
     "output_type": "execute_result"
    }
   ],
   "source": [
    "# find percentage of outliers\n",
    "\n",
    "len(data.loc[data['Duration_hours']>upper_limit])/len(data)"
   ]
  },
  {
   "cell_type": "code",
   "execution_count": 51,
   "id": "2ca858a4",
   "metadata": {},
   "outputs": [],
   "source": [
    "# Since data distribution  is not normal we will replace outliers with median\n",
    "\n",
    "data.loc[data['Duration_hours']>upper_limit,'Duration_hours']=data['Duration_hours'].median()"
   ]
  },
  {
   "cell_type": "code",
   "execution_count": 52,
   "id": "56e7f99f",
   "metadata": {},
   "outputs": [
    {
     "data": {
      "text/plain": [
       "<Axes: xlabel='Duration_hours'>"
      ]
     },
     "execution_count": 52,
     "metadata": {},
     "output_type": "execute_result"
    },
    {
     "data": {
      "image/png": "[encoded data removed]",
      "text/plain": [
       "<Figure size 640x480 with 1 Axes>"
      ]
     },
     "metadata": {},
     "output_type": "display_data"
    }
   ],
   "source": [
    "# Checking to see changes\n",
    "\n",
    "sns.boxplot(x=data.Duration_hours)"
   ]
  },
  {
   "cell_type": "markdown",
   "id": "d06c52fe",
   "metadata": {},
   "source": [
    "* So , we have successfully handled outliers and next we can move on to the process of encoding"
   ]
  },
  {
   "cell_type": "markdown",
   "id": "774e2f41",
   "metadata": {},
   "source": [
    "### Converting categorical values to numerical values :"
   ]
  },
  {
   "cell_type": "markdown",
   "id": "08ee41a2",
   "metadata": {},
   "source": [
    "* Airline, Source, Destination, Route, Total_Stops are the categorical variables we have in our data."
   ]
  },
  {
   "cell_type": "markdown",
   "id": "d3e81c2f",
   "metadata": {},
   "source": [
    "#### 1. AIRLINE"
   ]
  },
  {
   "cell_type": "code",
   "execution_count": 53,
   "id": "3e7061d4",
   "metadata": {},
   "outputs": [
    {
     "data": {
      "text/plain": [
       "array(['IndiGo', 'Air India', 'Jet Airways', 'SpiceJet',\n",
       "       'Multiple carriers', 'GoAir', 'Vistara', 'Air Asia',\n",
       "       'Vistara Premium economy', 'Jet Airways Business',\n",
       "       'Multiple carriers Premium economy', 'Trujet'], dtype=object)"
      ]
     },
     "execution_count": 53,
     "metadata": {},
     "output_type": "execute_result"
    }
   ],
   "source": [
    "# Checking the unique values in the column \"Airline\"\n",
    "\n",
    "data.Airline.unique()"
   ]
  },
  {
   "cell_type": "code",
   "execution_count": 54,
   "id": "3652ac09",
   "metadata": {},
   "outputs": [
    {
     "data": {
      "text/plain": [
       "Airline\n",
       "Jet Airways                          3849\n",
       "IndiGo                               2053\n",
       "Air India                            1751\n",
       "Multiple carriers                    1196\n",
       "SpiceJet                              818\n",
       "Vistara                               479\n",
       "Air Asia                              319\n",
       "GoAir                                 194\n",
       "Multiple carriers Premium economy      13\n",
       "Jet Airways Business                    6\n",
       "Vistara Premium economy                 3\n",
       "Trujet                                  1\n",
       "Name: count, dtype: int64"
      ]
     },
     "execution_count": 54,
     "metadata": {},
     "output_type": "execute_result"
    }
   ],
   "source": [
    "# Checking the count of each unique attributes\n",
    "\n",
    "data.Airline.value_counts()"
   ]
  },
  {
   "cell_type": "markdown",
   "id": "9d05cdf1",
   "metadata": {},
   "source": [
    "* Since this is a nominal data and having 12 unique attributes , we cannot use one-hot encoding method because it will create more number of columns which will in turn leads to overfitting.\n",
    "\n",
    "* In this case we can use frequency encoding for which we have to check the value counts for each category and assign larger number for column having larger value"
   ]
  },
  {
   "cell_type": "code",
   "execution_count": 55,
   "id": "04ce4b70",
   "metadata": {},
   "outputs": [],
   "source": [
    "# Making a copy of data and store it in the variable data2.\n",
    "\n",
    "data2=data.copy()"
   ]
  },
  {
   "cell_type": "code",
   "execution_count": 56,
   "id": "0d6499c6",
   "metadata": {},
   "outputs": [],
   "source": [
    "# Encoding Airline by frequency encoding\n",
    "\n",
    "data2.Airline=data2.Airline.map({'Trujet':0,'Vistara Premium economy':1,'Jet Airways Business':2,'Multiple carriers Premium economy':3,'GoAir':4,'Air Asia':5,'Vistara':6,'SpiceJet':7,'Multiple carriers':8,'Air India':9,'IndiGo':10,'Jet Airways':11})\n"
   ]
  },
  {
   "cell_type": "markdown",
   "id": "4182f93f",
   "metadata": {},
   "source": [
    "#### 2. SOURCE"
   ]
  },
  {
   "cell_type": "code",
   "execution_count": 57,
   "id": "47275b6b",
   "metadata": {},
   "outputs": [
    {
     "data": {
      "text/plain": [
       "array(['Banglore', 'Kolkata', 'Delhi', 'Chennai', 'Mumbai'], dtype=object)"
      ]
     },
     "execution_count": 57,
     "metadata": {},
     "output_type": "execute_result"
    }
   ],
   "source": [
    "# Checking the unique values in the column \"Source\"\n",
    "\n",
    "data.Source.unique()"
   ]
  },
  {
   "cell_type": "code",
   "execution_count": 58,
   "id": "ea4e553d",
   "metadata": {},
   "outputs": [
    {
     "data": {
      "text/plain": [
       "Source\n",
       "Delhi       4536\n",
       "Kolkata     2871\n",
       "Banglore    2197\n",
       "Mumbai       697\n",
       "Chennai      381\n",
       "Name: count, dtype: int64"
      ]
     },
     "execution_count": 58,
     "metadata": {},
     "output_type": "execute_result"
    }
   ],
   "source": [
    "# Checking the count of each unique attributes\n",
    "\n",
    "data.Source.value_counts()"
   ]
  },
  {
   "cell_type": "markdown",
   "id": "a5b36b1a",
   "metadata": {},
   "source": [
    "* Since this is also nominal data having more than 3 unique attributes , we can use one-hot encoding method"
   ]
  },
  {
   "cell_type": "code",
   "execution_count": 59,
   "id": "3c89b94a",
   "metadata": {},
   "outputs": [],
   "source": [
    "# Encoding Source by one hot encoding\n",
    "\n",
    "df2=pd.get_dummies(data2.Source,drop_first=True)\n",
    "data2=pd.concat([data2,df2],axis=1)"
   ]
  },
  {
   "cell_type": "code",
   "execution_count": 60,
   "id": "7dc4fe72",
   "metadata": {},
   "outputs": [],
   "source": [
    "# Removing the original column \"Source\"\n",
    "\n",
    "data2.drop([\"Source\"],axis=1,inplace=True)"
   ]
  },
  {
   "cell_type": "markdown",
   "id": "d1671533",
   "metadata": {},
   "source": [
    "#### 3.DESTINATION"
   ]
  },
  {
   "cell_type": "code",
   "execution_count": 61,
   "id": "c8685c4a",
   "metadata": {},
   "outputs": [
    {
     "data": {
      "text/plain": [
       "array(['New Delhi', 'Banglore', 'Cochin', 'Kolkata', 'Delhi', 'Hyderabad'],\n",
       "      dtype=object)"
      ]
     },
     "execution_count": 61,
     "metadata": {},
     "output_type": "execute_result"
    }
   ],
   "source": [
    "# Checking the unique values in the column \"Destination\"\n",
    "\n",
    "data.Destination.unique()"
   ]
  },
  {
   "cell_type": "code",
   "execution_count": 62,
   "id": "6481f9c0",
   "metadata": {},
   "outputs": [
    {
     "data": {
      "text/plain": [
       "Destination\n",
       "Cochin       4536\n",
       "Banglore     2871\n",
       "Delhi        1265\n",
       "New Delhi     932\n",
       "Hyderabad     697\n",
       "Kolkata       381\n",
       "Name: count, dtype: int64"
      ]
     },
     "execution_count": 62,
     "metadata": {},
     "output_type": "execute_result"
    }
   ],
   "source": [
    "# Checking the count of each unique attributes\n",
    "\n",
    "data.Destination.value_counts()"
   ]
  },
  {
   "cell_type": "markdown",
   "id": "fcdf1433",
   "metadata": {},
   "source": [
    "* Since this is also a nominal data having more than 3 unique attributes , we can use one-hot encoding method"
   ]
  },
  {
   "cell_type": "code",
   "execution_count": 63,
   "id": "ba592593",
   "metadata": {},
   "outputs": [],
   "source": [
    "# Encoding Destination by one hot encoding\n",
    "\n",
    "df3=pd.get_dummies(data2.Destination,drop_first=True)\n",
    "data2=pd.concat([data2,df3],axis=1)"
   ]
  },
  {
   "cell_type": "code",
   "execution_count": 64,
   "id": "3cef06ba",
   "metadata": {},
   "outputs": [],
   "source": [
    "# Removing the original column \"Destination\"\n",
    "\n",
    "data2.drop([\"Destination\"],axis=1,inplace=True)"
   ]
  },
  {
   "cell_type": "code",
   "execution_count": 65,
   "id": "1b790ae7",
   "metadata": {},
   "outputs": [],
   "source": [
    "# Since the column \"Route\" is related to number of stops , we will drop it\n",
    "\n",
    "data2.drop([\"Route\"], axis = 1, inplace = True)"
   ]
  },
  {
   "cell_type": "markdown",
   "id": "3384cc4e",
   "metadata": {},
   "source": [
    "#### 4.TOTAL STOPS"
   ]
  },
  {
   "cell_type": "code",
   "execution_count": 66,
   "id": "da691e99",
   "metadata": {},
   "outputs": [
    {
     "data": {
      "text/plain": [
       "array(['non-stop', '2 stops', '1 stop', '3 stops', '4 stops'],\n",
       "      dtype=object)"
      ]
     },
     "execution_count": 66,
     "metadata": {},
     "output_type": "execute_result"
    }
   ],
   "source": [
    "# Checking the unique values in the column \"Total_Stops\"\n",
    "\n",
    "data.Total_Stops.unique()"
   ]
  },
  {
   "cell_type": "code",
   "execution_count": 67,
   "id": "c3d9e6ea",
   "metadata": {},
   "outputs": [
    {
     "data": {
      "text/plain": [
       "Total_Stops\n",
       "1 stop      5625\n",
       "non-stop    3491\n",
       "2 stops     1520\n",
       "3 stops       45\n",
       "4 stops        1\n",
       "Name: count, dtype: int64"
      ]
     },
     "execution_count": 67,
     "metadata": {},
     "output_type": "execute_result"
    }
   ],
   "source": [
    "# Checking the count of each unique attributes\n",
    "\n",
    "data.Total_Stops.value_counts()"
   ]
  },
  {
   "cell_type": "markdown",
   "id": "f787e93b",
   "metadata": {},
   "source": [
    "* Since this is an ordinal data having more than 3 unique attributes we can use frequency encoding."
   ]
  },
  {
   "cell_type": "code",
   "execution_count": 68,
   "id": "5f648722",
   "metadata": {},
   "outputs": [],
   "source": [
    "# Encoding column \"Total_Stops\" using frequency encoding\n",
    "\n",
    "data2.Total_Stops=data2.Total_Stops.map({'4 stops':0,'3 stops':1,'2 stops':2,'non-stop':3,'1 stop':4})"
   ]
  },
  {
   "cell_type": "code",
   "execution_count": 69,
   "id": "b701b06a",
   "metadata": {},
   "outputs": [
    {
     "data": {
      "text/html": [
       "<div>\n",
       "<style scoped>\n",
       "    .dataframe tbody tr th:only-of-type {\n",
       "        vertical-align: middle;\n",
       "    }\n",
       "\n",
       "    .dataframe tbody tr th {\n",
       "        vertical-align: top;\n",
       "    }\n",
       "\n",
       "    .dataframe thead th {\n",
       "        text-align: right;\n",
       "    }\n",
       "</style>\n",
       "<table border=\"1\" class=\"dataframe\">\n",
       "  <thead>\n",
       "    <tr style=\"text-align: right;\">\n",
       "      <th></th>\n",
       "      <th>Airline</th>\n",
       "      <th>Total_Stops</th>\n",
       "      <th>Price</th>\n",
       "      <th>journey_Date</th>\n",
       "      <th>journey_month</th>\n",
       "      <th>Dep_hour</th>\n",
       "      <th>Dep_min</th>\n",
       "      <th>Arrival_hour</th>\n",
       "      <th>Arrival_min</th>\n",
       "      <th>Duration_hours</th>\n",
       "      <th>Duration_mins</th>\n",
       "      <th>Chennai</th>\n",
       "      <th>Delhi</th>\n",
       "      <th>Kolkata</th>\n",
       "      <th>Mumbai</th>\n",
       "      <th>Cochin</th>\n",
       "      <th>Delhi</th>\n",
       "      <th>Hyderabad</th>\n",
       "      <th>Kolkata</th>\n",
       "      <th>New Delhi</th>\n",
       "    </tr>\n",
       "  </thead>\n",
       "  <tbody>\n",
       "    <tr>\n",
       "      <th>0</th>\n",
       "      <td>10</td>\n",
       "      <td>3</td>\n",
       "      <td>3897</td>\n",
       "      <td>24</td>\n",
       "      <td>3</td>\n",
       "      <td>22</td>\n",
       "      <td>20</td>\n",
       "      <td>1</td>\n",
       "      <td>10</td>\n",
       "      <td>2</td>\n",
       "      <td>50</td>\n",
       "      <td>False</td>\n",
       "      <td>False</td>\n",
       "      <td>False</td>\n",
       "      <td>False</td>\n",
       "      <td>False</td>\n",
       "      <td>False</td>\n",
       "      <td>False</td>\n",
       "      <td>False</td>\n",
       "      <td>True</td>\n",
       "    </tr>\n",
       "    <tr>\n",
       "      <th>1</th>\n",
       "      <td>9</td>\n",
       "      <td>2</td>\n",
       "      <td>7662</td>\n",
       "      <td>1</td>\n",
       "      <td>5</td>\n",
       "      <td>5</td>\n",
       "      <td>50</td>\n",
       "      <td>13</td>\n",
       "      <td>15</td>\n",
       "      <td>7</td>\n",
       "      <td>25</td>\n",
       "      <td>False</td>\n",
       "      <td>False</td>\n",
       "      <td>True</td>\n",
       "      <td>False</td>\n",
       "      <td>False</td>\n",
       "      <td>False</td>\n",
       "      <td>False</td>\n",
       "      <td>False</td>\n",
       "      <td>False</td>\n",
       "    </tr>\n",
       "    <tr>\n",
       "      <th>2</th>\n",
       "      <td>11</td>\n",
       "      <td>2</td>\n",
       "      <td>13882</td>\n",
       "      <td>9</td>\n",
       "      <td>6</td>\n",
       "      <td>9</td>\n",
       "      <td>25</td>\n",
       "      <td>4</td>\n",
       "      <td>25</td>\n",
       "      <td>19</td>\n",
       "      <td>0</td>\n",
       "      <td>False</td>\n",
       "      <td>True</td>\n",
       "      <td>False</td>\n",
       "      <td>False</td>\n",
       "      <td>True</td>\n",
       "      <td>False</td>\n",
       "      <td>False</td>\n",
       "      <td>False</td>\n",
       "      <td>False</td>\n",
       "    </tr>\n",
       "    <tr>\n",
       "      <th>3</th>\n",
       "      <td>10</td>\n",
       "      <td>4</td>\n",
       "      <td>6218</td>\n",
       "      <td>12</td>\n",
       "      <td>5</td>\n",
       "      <td>18</td>\n",
       "      <td>5</td>\n",
       "      <td>23</td>\n",
       "      <td>30</td>\n",
       "      <td>5</td>\n",
       "      <td>25</td>\n",
       "      <td>False</td>\n",
       "      <td>False</td>\n",
       "      <td>True</td>\n",
       "      <td>False</td>\n",
       "      <td>False</td>\n",
       "      <td>False</td>\n",
       "      <td>False</td>\n",
       "      <td>False</td>\n",
       "      <td>False</td>\n",
       "    </tr>\n",
       "    <tr>\n",
       "      <th>4</th>\n",
       "      <td>10</td>\n",
       "      <td>4</td>\n",
       "      <td>13302</td>\n",
       "      <td>1</td>\n",
       "      <td>3</td>\n",
       "      <td>16</td>\n",
       "      <td>50</td>\n",
       "      <td>21</td>\n",
       "      <td>35</td>\n",
       "      <td>4</td>\n",
       "      <td>45</td>\n",
       "      <td>False</td>\n",
       "      <td>False</td>\n",
       "      <td>False</td>\n",
       "      <td>False</td>\n",
       "      <td>False</td>\n",
       "      <td>False</td>\n",
       "      <td>False</td>\n",
       "      <td>False</td>\n",
       "      <td>True</td>\n",
       "    </tr>\n",
       "  </tbody>\n",
       "</table>\n",
       "</div>"
      ],
      "text/plain": [
       "   Airline  Total_Stops  Price  journey_Date  journey_month  Dep_hour  \\\n",
       "0       10            3   3897            24              3        22   \n",
       "1        9            2   7662             1              5         5   \n",
       "2       11            2  13882             9              6         9   \n",
       "3       10            4   6218            12              5        18   \n",
       "4       10            4  13302             1              3        16   \n",
       "\n",
       "   Dep_min  Arrival_hour  Arrival_min  Duration_hours  Duration_mins  Chennai  \\\n",
       "0       20             1           10               2             50    False   \n",
       "1       50            13           15               7             25    False   \n",
       "2       25             4           25              19              0    False   \n",
       "3        5            23           30               5             25    False   \n",
       "4       50            21           35               4             45    False   \n",
       "\n",
       "   Delhi  Kolkata  Mumbai  Cochin  Delhi  Hyderabad  Kolkata  New Delhi  \n",
       "0  False    False   False   False  False      False    False       True  \n",
       "1  False     True   False   False  False      False    False      False  \n",
       "2   True    False   False    True  False      False    False      False  \n",
       "3  False     True   False   False  False      False    False      False  \n",
       "4  False    False   False   False  False      False    False       True  "
      ]
     },
     "execution_count": 69,
     "metadata": {},
     "output_type": "execute_result"
    }
   ],
   "source": [
    "df=data2\n",
    "df.head()"
   ]
  },
  {
   "cell_type": "markdown",
   "id": "5c11be72",
   "metadata": {},
   "source": [
    "# 8. FEATURE SELECTION"
   ]
  },
  {
   "cell_type": "code",
   "execution_count": 70,
   "id": "d7086033",
   "metadata": {},
   "outputs": [
    {
     "data": {
      "text/plain": [
       "<Axes: >"
      ]
     },
     "execution_count": 70,
     "metadata": {},
     "output_type": "execute_result"
    },
    {
     "data": {
      "image/png": "[encoded data removed]",
      "text/plain": [
       "<Figure size 1500x1000 with 2 Axes>"
      ]
     },
     "metadata": {},
     "output_type": "display_data"
    }
   ],
   "source": [
    "# Plotting heatmap to find the correlation between independent to independent and independent to dependent variables\n",
    "\n",
    "plt.figure(figsize=(15,10))\n",
    "sns.heatmap(df.corr(),annot = True)"
   ]
  },
  {
   "cell_type": "markdown",
   "id": "46d19574",
   "metadata": {},
   "source": [
    "#### INSIGHTS:\n",
    "\n",
    "* If two variables are highly correlated (e.g., correlation coefficient close to +1 or -1), it may be advisable to drop one of them to reduce multicollinearity.\n",
    "\n",
    "* Here , we dont have such variables. So no need to drop any column"
   ]
  },
  {
   "cell_type": "markdown",
   "id": "d4c4fdee",
   "metadata": {},
   "source": [
    "# 9. MODEL CREATION"
   ]
  },
  {
   "cell_type": "markdown",
   "id": "4acd90ea",
   "metadata": {},
   "source": [
    "* So far we have done domain analysis , exploratory data analysis , data pre-processing and feature selection.\n",
    "\n",
    "* Now we can start building various models and see which model holds best accuracy\n",
    "\n",
    "* We have the following machine learning models for regression:\n",
    "\n",
    "    - Linear Regressor\n",
    "\n",
    "    - K Nearest Neighbors Regressor\n",
    "\n",
    "    - Decision Tree Regressor\n",
    "\n",
    "    - Random Forest Regressor\n",
    "\n",
    "    - Gradient Boosting Regressor"
   ]
  },
  {
   "cell_type": "markdown",
   "id": "aba66c71",
   "metadata": {},
   "source": [
    "## LINEAR REGRESSION"
   ]
  },
  {
   "cell_type": "code",
   "execution_count": 71,
   "id": "21029557",
   "metadata": {},
   "outputs": [],
   "source": [
    "# Splitting data in to x and y\n",
    "\n",
    "x=df.drop(\"Price\",axis=1)\n",
    "y=df[\"Price\"]"
   ]
  },
  {
   "cell_type": "code",
   "execution_count": 72,
   "id": "647fa841",
   "metadata": {},
   "outputs": [],
   "source": [
    "# Create training and testing data\n",
    "\n",
    "from sklearn.model_selection import train_test_split\n",
    "x_train,x_test,y_train,y_test=train_test_split(x,y,test_size=0.25,random_state=42)"
   ]
  },
  {
   "cell_type": "code",
   "execution_count": 73,
   "id": "b9f7e50f",
   "metadata": {},
   "outputs": [
    {
     "name": "stdout",
     "output_type": "stream",
     "text": [
      "(8011, 19)\n",
      "(8011,)\n",
      "(2671, 19)\n",
      "(2671,)\n"
     ]
    }
   ],
   "source": [
    "print(x_train.shape)\n",
    "print(y_train.shape)\n",
    "print(x_test.shape)\n",
    "print(y_test.shape)"
   ]
  },
  {
   "cell_type": "code",
   "execution_count": 74,
   "id": "f0f1274e",
   "metadata": {},
   "outputs": [],
   "source": [
    "# Importing linear regression model\n",
    "from sklearn.linear_model import LinearRegression\n",
    "\n",
    "# Initializing the model\n",
    "LR=LinearRegression()\n",
    "\n",
    "# Training the model\n",
    "LR.fit(x_train,y_train)\n",
    "\n",
    "# Predicting the model\n",
    "y_pred=LR.predict(x_test)"
   ]
  },
  {
   "cell_type": "code",
   "execution_count": 75,
   "id": "34e1e885",
   "metadata": {},
   "outputs": [],
   "source": [
    "from sklearn.metrics import mean_squared_error,mean_absolute_error,r2_score"
   ]
  },
  {
   "cell_type": "code",
   "execution_count": 76,
   "id": "35cee5bc",
   "metadata": {},
   "outputs": [
    {
     "name": "stdout",
     "output_type": "stream",
     "text": [
      "11594939.13107167\n",
      "2457.5460918961044\n",
      "49.57364311704461\n"
     ]
    }
   ],
   "source": [
    "# Finding mean square error , mean absolute error and root mean square error\n",
    "\n",
    "mse=mean_squared_error(y_test,y_pred)\n",
    "print(mse)\n",
    "\n",
    "mae=mean_absolute_error(y_test,y_pred)\n",
    "print(mae)\n",
    "\n",
    "import math\n",
    "rmse=math.sqrt(mae)\n",
    "print(rmse)"
   ]
  },
  {
   "cell_type": "code",
   "execution_count": 77,
   "id": "d3e4a695",
   "metadata": {},
   "outputs": [
    {
     "data": {
      "text/plain": [
       "0.4374945776704606"
      ]
     },
     "execution_count": 77,
     "metadata": {},
     "output_type": "execute_result"
    }
   ],
   "source": [
    "# Finding r2 score\n",
    "\n",
    "lr_score=r2_score(y_test,y_pred)\n",
    "lr_score"
   ]
  },
  {
   "cell_type": "code",
   "execution_count": 78,
   "id": "48a6219e",
   "metadata": {},
   "outputs": [
    {
     "data": {
      "text/plain": [
       "0.43346304125995094"
      ]
     },
     "execution_count": 78,
     "metadata": {},
     "output_type": "execute_result"
    }
   ],
   "source": [
    "# Finding adjusted r2 score\n",
    "\n",
    "adj_r2=1-(1-lr_score)*(2671-1)/(2671-19-1)\n",
    "adj_r2"
   ]
  },
  {
   "cell_type": "markdown",
   "id": "9459ed2a",
   "metadata": {},
   "source": [
    "## KNN\n"
   ]
  },
  {
   "cell_type": "code",
   "execution_count": 79,
   "id": "f6136f6d",
   "metadata": {},
   "outputs": [
    {
     "data": {
      "text/plain": [
       "[0.7828528640958442,\n",
       " 0.9146387120928491,\n",
       " 0.9543242231374017,\n",
       " 0.9745413702733059,\n",
       " 0.9861475102957694,\n",
       " 0.9955073006364658,\n",
       " 0.9970048670909771,\n",
       " 0.9992512167727443,\n",
       " 0.9996256083863722,\n",
       " 1.0,\n",
       " 1.0,\n",
       " 0.9996256083863722,\n",
       " 1.0,\n",
       " 1.0,\n",
       " 1.0,\n",
       " 1.0,\n",
       " 1.0,\n",
       " 1.0]"
      ]
     },
     "execution_count": 79,
     "metadata": {},
     "output_type": "execute_result"
    }
   ],
   "source": [
    "# import KNN Regressor\n",
    "from sklearn.neighbors import KNeighborsRegressor\n",
    "\n",
    "# create empty list to store error values\n",
    "error_rate=[]\n",
    "\n",
    "for i in range(1,19):\n",
    "    model=KNeighborsRegressor(n_neighbors=i)\n",
    "    model.fit(x_train,y_train)\n",
    "    y_pred=model.predict(x_test)\n",
    "    error_rate.append(np.mean(y_pred!=y_test))\n",
    "error_rate"
   ]
  },
  {
   "cell_type": "code",
   "execution_count": 80,
   "id": "ea87b62a",
   "metadata": {},
   "outputs": [
    {
     "data": {
      "image/png": "[encoded data removed]",
      "text/plain": [
       "<Figure size 700x400 with 1 Axes>"
      ]
     },
     "metadata": {},
     "output_type": "display_data"
    }
   ],
   "source": [
    "# Plotting graph of error rate VS k value\n",
    "\n",
    "plt.figure(figsize=(7,4))\n",
    "plt.plot(range(1,19),error_rate,color=\"red\",marker='o',markersize=4)\n",
    "plt.title(\"Error rate versus K (no of nearest neighbors)\")\n",
    "plt.xlabel(\"k-value\")\n",
    "plt.ylabel(\"error_rate\")\n",
    "plt.show()"
   ]
  },
  {
   "cell_type": "code",
   "execution_count": 81,
   "id": "5f3e9231",
   "metadata": {},
   "outputs": [],
   "source": [
    "# From the graph we can see that k=5 is giving less error. So wecan take 4 as the optimal value for k\n",
    "\n",
    "from sklearn.neighbors import KNeighborsRegressor\n",
    "KNN=KNeighborsRegressor(n_neighbors=5)\n",
    "KNN.fit(x_train,y_train)\n",
    "y_pred=KNN.predict(x_test)"
   ]
  },
  {
   "cell_type": "code",
   "execution_count": 82,
   "id": "e0ddbe70",
   "metadata": {},
   "outputs": [
    {
     "name": "stdout",
     "output_type": "stream",
     "text": [
      "8349805.077109696\n",
      "1811.1251216772746\n",
      "42.55731572452937\n"
     ]
    }
   ],
   "source": [
    "# Finding MSE,MAE and RMSE\n",
    "from sklearn.metrics import mean_squared_error,mean_absolute_error,r2_score\n",
    "\n",
    "mse=mean_squared_error(y_test,y_pred)\n",
    "print(mse)\n",
    "\n",
    "mae=mean_absolute_error(y_test,y_pred)\n",
    "print(mae)\n",
    "\n",
    "import math\n",
    "rmse=math.sqrt(mae)\n",
    "print(rmse)"
   ]
  },
  {
   "cell_type": "code",
   "execution_count": 83,
   "id": "70b37716",
   "metadata": {},
   "outputs": [
    {
     "data": {
      "text/plain": [
       "0.5949258052866712"
      ]
     },
     "execution_count": 83,
     "metadata": {},
     "output_type": "execute_result"
    }
   ],
   "source": [
    "# Finding r2 score\n",
    "\n",
    "knn_score=r2_score(y_test,y_pred)\n",
    "knn_score"
   ]
  },
  {
   "cell_type": "code",
   "execution_count": 84,
   "id": "64c1b1be",
   "metadata": {},
   "outputs": [
    {
     "data": {
      "text/plain": [
       "0.43346304125995094"
      ]
     },
     "execution_count": 84,
     "metadata": {},
     "output_type": "execute_result"
    }
   ],
   "source": [
    "# Finding adjusted r2 score\n",
    "\n",
    "adj_r2=1-(1-lr_score)*(2671-1)/(2671-19-1)\n",
    "adj_r2"
   ]
  },
  {
   "cell_type": "markdown",
   "id": "e52dd81e",
   "metadata": {},
   "source": [
    "## DECISION TREE"
   ]
  },
  {
   "cell_type": "code",
   "execution_count": 85,
   "id": "7d2e5ca5",
   "metadata": {},
   "outputs": [],
   "source": [
    "# Import decision tree regressor\n",
    "from sklearn.tree import DecisionTreeRegressor\n",
    "\n",
    "# Initialising the model\n",
    "dt=DecisionTreeRegressor()\n",
    "\n",
    "# Training the model\n",
    "dt.fit(x_train,y_train)\n",
    "\n",
    "# Predicting the model\n",
    "y_pred=dt.predict(x_test)"
   ]
  },
  {
   "cell_type": "code",
   "execution_count": 86,
   "id": "e99ad529",
   "metadata": {},
   "outputs": [
    {
     "name": "stdout",
     "output_type": "stream",
     "text": [
      "6294891.188010109\n",
      "1368.826257331836\n",
      "36.99765205160776\n"
     ]
    }
   ],
   "source": [
    "# Finding MSE,MAE and RMSE\n",
    "from sklearn.metrics import mean_squared_error,mean_absolute_error,r2_score\n",
    "\n",
    "mse=mean_squared_error(y_test,y_pred)\n",
    "print(mse)\n",
    "\n",
    "mae=mean_absolute_error(y_test,y_pred)\n",
    "print(mae)\n",
    "\n",
    "import math\n",
    "rmse=math.sqrt(mae)\n",
    "print(rmse)"
   ]
  },
  {
   "cell_type": "code",
   "execution_count": 87,
   "id": "588c7d89",
   "metadata": {},
   "outputs": [
    {
     "data": {
      "text/plain": [
       "0.6946158676468317"
      ]
     },
     "execution_count": 87,
     "metadata": {},
     "output_type": "execute_result"
    }
   ],
   "source": [
    "# Finding r2 score\n",
    "\n",
    "dt_score=r2_score(y_test,y_pred)\n",
    "dt_score"
   ]
  },
  {
   "cell_type": "code",
   "execution_count": 88,
   "id": "90aeaaf9",
   "metadata": {},
   "outputs": [
    {
     "data": {
      "text/plain": [
       "0.692427146969838"
      ]
     },
     "execution_count": 88,
     "metadata": {},
     "output_type": "execute_result"
    }
   ],
   "source": [
    "# Finding adjusted r2 score\n",
    "\n",
    "adj_r2=1-(1-dt_score)*(2671-1)/(2671-19-1)\n",
    "adj_r2"
   ]
  },
  {
   "cell_type": "markdown",
   "id": "d463d603",
   "metadata": {},
   "source": [
    "## RANDOM FOREST"
   ]
  },
  {
   "cell_type": "code",
   "execution_count": 89,
   "id": "10a4c759",
   "metadata": {},
   "outputs": [],
   "source": [
    "from sklearn.ensemble import RandomForestRegressor\n",
    "rf=RandomForestRegressor()\n",
    "rf.fit(x_train,y_train)\n",
    "y_pred=rf.predict(x_test)"
   ]
  },
  {
   "cell_type": "code",
   "execution_count": 90,
   "id": "b05a2db5",
   "metadata": {},
   "outputs": [
    {
     "name": "stdout",
     "output_type": "stream",
     "text": [
      "4158817.107121413\n",
      "1162.9575572782703\n",
      "34.102163527821375\n"
     ]
    }
   ],
   "source": [
    "# Finding MSE,MAE and RMSE\n",
    "from sklearn.metrics import mean_squared_error,mean_absolute_error,r2_score\n",
    "\n",
    "mse=mean_squared_error(y_test,y_pred)\n",
    "print(mse)\n",
    "\n",
    "mae=mean_absolute_error(y_test,y_pred)\n",
    "print(mae)\n",
    "\n",
    "import math\n",
    "rmse=math.sqrt(mae)\n",
    "print(rmse)"
   ]
  },
  {
   "cell_type": "code",
   "execution_count": 91,
   "id": "1e578f40",
   "metadata": {},
   "outputs": [
    {
     "data": {
      "text/plain": [
       "0.7982432553730511"
      ]
     },
     "execution_count": 91,
     "metadata": {},
     "output_type": "execute_result"
    }
   ],
   "source": [
    "# Finding r2 score\n",
    "\n",
    "rf_score=r2_score(y_test,y_pred)\n",
    "rf_score"
   ]
  },
  {
   "cell_type": "code",
   "execution_count": 92,
   "id": "62ff00ac",
   "metadata": {},
   "outputs": [
    {
     "data": {
      "text/plain": [
       "0.7967972432463396"
      ]
     },
     "execution_count": 92,
     "metadata": {},
     "output_type": "execute_result"
    }
   ],
   "source": [
    "# Finding adjusted r2 score\n",
    "\n",
    "adj_r2=1-(1-rf_score)*(2671-1)/(2671-19-1)\n",
    "adj_r2"
   ]
  },
  {
   "cell_type": "markdown",
   "id": "f7ad9501",
   "metadata": {},
   "source": [
    "### HYPER PARAMETER TUNING"
   ]
  },
  {
   "cell_type": "code",
   "execution_count": 93,
   "id": "570d01f7",
   "metadata": {},
   "outputs": [],
   "source": [
    "# import randomized search CV\n",
    "\n",
    "from sklearn.model_selection import RandomizedSearchCV"
   ]
  },
  {
   "cell_type": "code",
   "execution_count": 94,
   "id": "2abfce6f",
   "metadata": {},
   "outputs": [],
   "source": [
    "# It represents the number of trees in the random forest\n",
    "n_estimators = [int(x) for x in np.linspace(start=100, stop=1200, num=10)]\n",
    "\n",
    "# auto will randomly select features and sqrt considers the square root of the total number of features at each split.\n",
    "max_features = ['auto', 'sqrt']\n",
    "\n",
    "# It determines the maximum depth of each decision tree in the random forest.\n",
    "max_depth = [int(x) for x in np.linspace(5, 30, num=6)]\n",
    "\n",
    "#It specifies the minimum number of samples required to split an internal node.\n",
    "min_samples_split = [2,3,10,15]\n",
    "\n",
    "#It tells the minimum number of samples that a leaf node should have.\n",
    "min_samples_leaf = [1,2,5,10]"
   ]
  },
  {
   "cell_type": "code",
   "execution_count": 95,
   "id": "a860c5a3",
   "metadata": {},
   "outputs": [],
   "source": [
    "# Dictionary for hyperparameters\n",
    "random= {'n_estimators': n_estimators, 'max_features': max_features,\n",
    "               'max_depth': max_depth, 'min_samples_split': min_samples_split,\n",
    "               'min_samples_leaf': min_samples_leaf}"
   ]
  },
  {
   "cell_type": "code",
   "execution_count": 96,
   "id": "de9ffe7e",
   "metadata": {},
   "outputs": [],
   "source": [
    "rf_random=RandomizedSearchCV(estimator=rf,param_distributions=random,scoring='neg_mean_squared_error',n_iter=100,cv=4,verbose=2,random_state=42,n_jobs=-1)"
   ]
  },
  {
   "cell_type": "code",
   "execution_count": 97,
   "id": "0cd08447",
   "metadata": {},
   "outputs": [
    {
     "name": "stdout",
     "output_type": "stream",
     "text": [
      "Fitting 4 folds for each of 100 candidates, totalling 400 fits\n"
     ]
    },
    {
     "data": {
      "text/html": [
       "<style>#sk-container-id-1 {color: black;}#sk-container-id-1 pre{padding: 0;}#sk-container-id-1 div.sk-toggleable {background-color: white;}#sk-container-id-1 label.sk-toggleable__label {cursor: pointer;display: block;width: 100%;margin-bottom: 0;padding: 0.3em;box-sizing: border-box;text-align: center;}#sk-container-id-1 label.sk-toggleable__label-arrow:before {content: \"▸\";float: left;margin-right: 0.25em;color: #696969;}#sk-container-id-1 label.sk-toggleable__label-arrow:hover:before {color: black;}#sk-container-id-1 div.sk-estimator:hover label.sk-toggleable__label-arrow:before {color: black;}#sk-container-id-1 div.sk-toggleable__content {max-height: 0;max-width: 0;overflow: hidden;text-align: left;background-color: #f0f8ff;}#sk-container-id-1 div.sk-toggleable__content pre {margin: 0.2em;color: black;border-radius: 0.25em;background-color: #f0f8ff;}#sk-container-id-1 input.sk-toggleable__control:checked~div.sk-toggleable__content {max-height: 200px;max-width: 100%;overflow: auto;}#sk-container-id-1 input.sk-toggleable__control:checked~label.sk-toggleable__label-arrow:before {content: \"▾\";}#sk-container-id-1 div.sk-estimator input.sk-toggleable__control:checked~label.sk-toggleable__label {background-color: #d4ebff;}#sk-container-id-1 div.sk-label input.sk-toggleable__control:checked~label.sk-toggleable__label {background-color: #d4ebff;}#sk-container-id-1 input.sk-hidden--visually {border: 0;clip: rect(1px 1px 1px 1px);clip: rect(1px, 1px, 1px, 1px);height: 1px;margin: -1px;overflow: hidden;padding: 0;position: absolute;width: 1px;}#sk-container-id-1 div.sk-estimator {font-family: monospace;background-color: #f0f8ff;border: 1px dotted black;border-radius: 0.25em;box-sizing: border-box;margin-bottom: 0.5em;}#sk-container-id-1 div.sk-estimator:hover {background-color: #d4ebff;}#sk-container-id-1 div.sk-parallel-item::after {content: \"\";width: 100%;border-bottom: 1px solid gray;flex-grow: 1;}#sk-container-id-1 div.sk-label:hover label.sk-toggleable__label {background-color: #d4ebff;}#sk-container-id-1 div.sk-serial::before {content: \"\";position: absolute;border-left: 1px solid gray;box-sizing: border-box;top: 0;bottom: 0;left: 50%;z-index: 0;}#sk-container-id-1 div.sk-serial {display: flex;flex-direction: column;align-items: center;background-color: white;padding-right: 0.2em;padding-left: 0.2em;position: relative;}#sk-container-id-1 div.sk-item {position: relative;z-index: 1;}#sk-container-id-1 div.sk-parallel {display: flex;align-items: stretch;justify-content: center;background-color: white;position: relative;}#sk-container-id-1 div.sk-item::before, #sk-container-id-1 div.sk-parallel-item::before {content: \"\";position: absolute;border-left: 1px solid gray;box-sizing: border-box;top: 0;bottom: 0;left: 50%;z-index: -1;}#sk-container-id-1 div.sk-parallel-item {display: flex;flex-direction: column;z-index: 1;position: relative;background-color: white;}#sk-container-id-1 div.sk-parallel-item:first-child::after {align-self: flex-end;width: 50%;}#sk-container-id-1 div.sk-parallel-item:last-child::after {align-self: flex-start;width: 50%;}#sk-container-id-1 div.sk-parallel-item:only-child::after {width: 0;}#sk-container-id-1 div.sk-dashed-wrapped {border: 1px dashed gray;margin: 0 0.4em 0.5em 0.4em;box-sizing: border-box;padding-bottom: 0.4em;background-color: white;}#sk-container-id-1 div.sk-label label {font-family: monospace;font-weight: bold;display: inline-block;line-height: 1.2em;}#sk-container-id-1 div.sk-label-container {text-align: center;}#sk-container-id-1 div.sk-container {/* jupyter's `normalize.less` sets `[hidden] { display: none; }` but bootstrap.min.css set `[hidden] { display: none !important; }` so we also need the `!important` here to be able to override the default hidden behavior on the sphinx rendered scikit-learn.org. See: https://github.com/scikit-learn/scikit-learn/issues/21755 */display: inline-block !important;position: relative;}#sk-container-id-1 div.sk-text-repr-fallback {display: none;}</style><div id=\"sk-container-id-1\" class=\"sk-top-container\"><div class=\"sk-text-repr-fallback\"><pre>RandomizedSearchCV(cv=4, estimator=RandomForestRegressor(), n_iter=100,\n",
       "                   n_jobs=-1,\n",
       "                   param_distributions={&#x27;max_depth&#x27;: [5, 10, 15, 20, 25, 30],\n",
       "                                        &#x27;max_features&#x27;: [&#x27;auto&#x27;, &#x27;sqrt&#x27;],\n",
       "                                        &#x27;min_samples_leaf&#x27;: [1, 2, 5, 10],\n",
       "                                        &#x27;min_samples_split&#x27;: [2, 3, 10, 15],\n",
       "                                        &#x27;n_estimators&#x27;: [100, 222, 344, 466,\n",
       "                                                         588, 711, 833, 955,\n",
       "                                                         1077, 1200]},\n",
       "                   random_state=42, scoring=&#x27;neg_mean_squared_error&#x27;,\n",
       "                   verbose=2)</pre><b>In a Jupyter environment, please rerun this cell to show the HTML representation or trust the notebook. <br />On GitHub, the HTML representation is unable to render, please try loading this page with nbviewer.org.</b></div><div class=\"sk-container\" hidden><div class=\"sk-item sk-dashed-wrapped\"><div class=\"sk-label-container\"><div class=\"sk-label sk-toggleable\"><input class=\"sk-toggleable__control sk-hidden--visually\" id=\"sk-estimator-id-1\" type=\"checkbox\" ><label for=\"sk-estimator-id-1\" class=\"sk-toggleable__label sk-toggleable__label-arrow\">RandomizedSearchCV</label><div class=\"sk-toggleable__content\"><pre>RandomizedSearchCV(cv=4, estimator=RandomForestRegressor(), n_iter=100,\n",
       "                   n_jobs=-1,\n",
       "                   param_distributions={&#x27;max_depth&#x27;: [5, 10, 15, 20, 25, 30],\n",
       "                                        &#x27;max_features&#x27;: [&#x27;auto&#x27;, &#x27;sqrt&#x27;],\n",
       "                                        &#x27;min_samples_leaf&#x27;: [1, 2, 5, 10],\n",
       "                                        &#x27;min_samples_split&#x27;: [2, 3, 10, 15],\n",
       "                                        &#x27;n_estimators&#x27;: [100, 222, 344, 466,\n",
       "                                                         588, 711, 833, 955,\n",
       "                                                         1077, 1200]},\n",
       "                   random_state=42, scoring=&#x27;neg_mean_squared_error&#x27;,\n",
       "                   verbose=2)</pre></div></div></div><div class=\"sk-parallel\"><div class=\"sk-parallel-item\"><div class=\"sk-item\"><div class=\"sk-label-container\"><div class=\"sk-label sk-toggleable\"><input class=\"sk-toggleable__control sk-hidden--visually\" id=\"sk-estimator-id-2\" type=\"checkbox\" ><label for=\"sk-estimator-id-2\" class=\"sk-toggleable__label sk-toggleable__label-arrow\">estimator: RandomForestRegressor</label><div class=\"sk-toggleable__content\"><pre>RandomForestRegressor()</pre></div></div></div><div class=\"sk-serial\"><div class=\"sk-item\"><div class=\"sk-estimator sk-toggleable\"><input class=\"sk-toggleable__control sk-hidden--visually\" id=\"sk-estimator-id-3\" type=\"checkbox\" ><label for=\"sk-estimator-id-3\" class=\"sk-toggleable__label sk-toggleable__label-arrow\">RandomForestRegressor</label><div class=\"sk-toggleable__content\"><pre>RandomForestRegressor()</pre></div></div></div></div></div></div></div></div></div></div>"
      ],
      "text/plain": [
       "RandomizedSearchCV(cv=4, estimator=RandomForestRegressor(), n_iter=100,\n",
       "                   n_jobs=-1,\n",
       "                   param_distributions={'max_depth': [5, 10, 15, 20, 25, 30],\n",
       "                                        'max_features': ['auto', 'sqrt'],\n",
       "                                        'min_samples_leaf': [1, 2, 5, 10],\n",
       "                                        'min_samples_split': [2, 3, 10, 15],\n",
       "                                        'n_estimators': [100, 222, 344, 466,\n",
       "                                                         588, 711, 833, 955,\n",
       "                                                         1077, 1200]},\n",
       "                   random_state=42, scoring='neg_mean_squared_error',\n",
       "                   verbose=2)"
      ]
     },
     "execution_count": 97,
     "metadata": {},
     "output_type": "execute_result"
    }
   ],
   "source": [
    "rf_random.fit(x_train,y_train)"
   ]
  },
  {
   "cell_type": "code",
   "execution_count": 98,
   "id": "01597dc5",
   "metadata": {},
   "outputs": [
    {
     "data": {
      "text/plain": [
       "{'n_estimators': 711,\n",
       " 'min_samples_split': 10,\n",
       " 'min_samples_leaf': 1,\n",
       " 'max_features': 'sqrt',\n",
       " 'max_depth': 25}"
      ]
     },
     "execution_count": 98,
     "metadata": {},
     "output_type": "execute_result"
    }
   ],
   "source": [
    "rf_random.best_params_"
   ]
  },
  {
   "cell_type": "code",
   "execution_count": 100,
   "id": "ac3b0b1d",
   "metadata": {},
   "outputs": [],
   "source": [
    "rf=RandomForestRegressor(n_estimators= 711,\n",
    "min_samples_split= 10,\n",
    "min_samples_leaf= 1,\n",
    "max_features= 'sqrt',\n",
    "max_depth= 25)\n",
    "rf.fit(x_train,y_train)\n",
    "y_pred=rf.predict(x_test)"
   ]
  },
  {
   "cell_type": "code",
   "execution_count": 101,
   "id": "db8e3d51",
   "metadata": {},
   "outputs": [
    {
     "name": "stdout",
     "output_type": "stream",
     "text": [
      "3789940.5488091884\n",
      "1236.5001115871291\n",
      "35.16390353170605\n"
     ]
    }
   ],
   "source": [
    "# Finding MSE,MAE and RMSE\n",
    "from sklearn.metrics import mean_squared_error,mean_absolute_error,r2_score\n",
    "\n",
    "mse=mean_squared_error(y_test,y_pred)\n",
    "print(mse)\n",
    "\n",
    "mae=mean_absolute_error(y_test,y_pred)\n",
    "print(mae)\n",
    "\n",
    "import math\n",
    "rmse=math.sqrt(mae)\n",
    "print(rmse)"
   ]
  },
  {
   "cell_type": "code",
   "execution_count": 102,
   "id": "eb73f47b",
   "metadata": {},
   "outputs": [
    {
     "data": {
      "text/plain": [
       "0.816138568308748"
      ]
     },
     "execution_count": 102,
     "metadata": {},
     "output_type": "execute_result"
    }
   ],
   "source": [
    "# Finding r2 score\n",
    "\n",
    "rf_score=r2_score(y_test,y_pred)\n",
    "rf_score"
   ]
  },
  {
   "cell_type": "code",
   "execution_count": 103,
   "id": "8db739ba",
   "metadata": {},
   "outputs": [
    {
     "data": {
      "text/plain": [
       "0.8148208138002102"
      ]
     },
     "execution_count": 103,
     "metadata": {},
     "output_type": "execute_result"
    }
   ],
   "source": [
    "# Finding adjusted r2 score\n",
    "\n",
    "adj_r2=1-(1-rf_score)*(2671-1)/(2671-19-1)\n",
    "adj_r2"
   ]
  },
  {
   "cell_type": "markdown",
   "id": "4bf7a4b5",
   "metadata": {},
   "source": [
    "## GRADIENT BOOSTING"
   ]
  },
  {
   "cell_type": "code",
   "execution_count": 104,
   "id": "6f76f99e",
   "metadata": {},
   "outputs": [],
   "source": [
    "## importing gradient boosting regressor\n",
    "from sklearn.ensemble import GradientBoostingRegressor\n",
    "\n",
    "# Initialising the model\n",
    "gbr=GradientBoostingRegressor(n_estimators=900)\n",
    "\n",
    "# training the model\n",
    "gbr.fit(x_train,y_train)\n",
    "\n",
    "# predicting the model\n",
    "y_pred=gbr.predict(x_test)"
   ]
  },
  {
   "cell_type": "code",
   "execution_count": 105,
   "id": "ef3db7cb",
   "metadata": {},
   "outputs": [
    {
     "name": "stdout",
     "output_type": "stream",
     "text": [
      "3425338.014065971\n",
      "1266.619285069808\n",
      "35.58959517990908\n"
     ]
    }
   ],
   "source": [
    "# Finding MSE,MAE and RMSE\n",
    "from sklearn.metrics import mean_squared_error,mean_absolute_error,r2_score\n",
    "\n",
    "mse=mean_squared_error(y_test,y_pred)\n",
    "print(mse)\n",
    "\n",
    "mae=mean_absolute_error(y_test,y_pred)\n",
    "print(mae)\n",
    "\n",
    "import math\n",
    "rmse=math.sqrt(mae)\n",
    "print(rmse)"
   ]
  },
  {
   "cell_type": "code",
   "execution_count": 106,
   "id": "1c878d25",
   "metadata": {},
   "outputs": [
    {
     "data": {
      "text/plain": [
       "0.8338265354873388"
      ]
     },
     "execution_count": 106,
     "metadata": {},
     "output_type": "execute_result"
    }
   ],
   "source": [
    "# Finding r2 score\n",
    "\n",
    "gbr_score=r2_score(y_test,y_pred)\n",
    "gbr_score"
   ]
  },
  {
   "cell_type": "code",
   "execution_count": 107,
   "id": "5a4c4be8",
   "metadata": {},
   "outputs": [
    {
     "data": {
      "text/plain": [
       "0.8326355525277988"
      ]
     },
     "execution_count": 107,
     "metadata": {},
     "output_type": "execute_result"
    }
   ],
   "source": [
    "# Finding adjusted r2 score\n",
    "\n",
    "adj_r2=1-(1-gbr_score)*(2671-1)/(2671-19-1)\n",
    "adj_r2"
   ]
  },
  {
   "cell_type": "markdown",
   "id": "368e359e",
   "metadata": {},
   "source": [
    "### HYPERPARAMETER TUNING"
   ]
  },
  {
   "cell_type": "code",
   "execution_count": 108,
   "id": "fe015893",
   "metadata": {},
   "outputs": [],
   "source": [
    "from sklearn.model_selection import RandomizedSearchCV\n",
    "param= {\n",
    "    'n_estimators': [100, 200, 300,500],\n",
    "    'learning_rate': [0.01, 0.1, 0.2 , 0.001],\n",
    "    'max_depth': [3, 4, 5,7,9],\n",
    "    'min_samples_split': [2, 5, 10,12],\n",
    "    'min_samples_leaf': [1, 2, 5,7],\n",
    "    'subsample': [0.7,0.8, 0.9, 1.0]\n",
    "}\n"
   ]
  },
  {
   "cell_type": "code",
   "execution_count": 109,
   "id": "5268bed2",
   "metadata": {},
   "outputs": [],
   "source": [
    "random=RandomizedSearchCV(estimator=gbr,param_distributions=param,scoring='neg_mean_squared_error',n_iter=100,cv=4,verbose=2,random_state=42,n_jobs=-1)"
   ]
  },
  {
   "cell_type": "code",
   "execution_count": 110,
   "id": "8da58cb8",
   "metadata": {},
   "outputs": [
    {
     "name": "stdout",
     "output_type": "stream",
     "text": [
      "Fitting 4 folds for each of 100 candidates, totalling 400 fits\n"
     ]
    },
    {
     "data": {
      "text/html": [
       "<style>#sk-container-id-2 {color: black;}#sk-container-id-2 pre{padding: 0;}#sk-container-id-2 div.sk-toggleable {background-color: white;}#sk-container-id-2 label.sk-toggleable__label {cursor: pointer;display: block;width: 100%;margin-bottom: 0;padding: 0.3em;box-sizing: border-box;text-align: center;}#sk-container-id-2 label.sk-toggleable__label-arrow:before {content: \"▸\";float: left;margin-right: 0.25em;color: #696969;}#sk-container-id-2 label.sk-toggleable__label-arrow:hover:before {color: black;}#sk-container-id-2 div.sk-estimator:hover label.sk-toggleable__label-arrow:before {color: black;}#sk-container-id-2 div.sk-toggleable__content {max-height: 0;max-width: 0;overflow: hidden;text-align: left;background-color: #f0f8ff;}#sk-container-id-2 div.sk-toggleable__content pre {margin: 0.2em;color: black;border-radius: 0.25em;background-color: #f0f8ff;}#sk-container-id-2 input.sk-toggleable__control:checked~div.sk-toggleable__content {max-height: 200px;max-width: 100%;overflow: auto;}#sk-container-id-2 input.sk-toggleable__control:checked~label.sk-toggleable__label-arrow:before {content: \"▾\";}#sk-container-id-2 div.sk-estimator input.sk-toggleable__control:checked~label.sk-toggleable__label {background-color: #d4ebff;}#sk-container-id-2 div.sk-label input.sk-toggleable__control:checked~label.sk-toggleable__label {background-color: #d4ebff;}#sk-container-id-2 input.sk-hidden--visually {border: 0;clip: rect(1px 1px 1px 1px);clip: rect(1px, 1px, 1px, 1px);height: 1px;margin: -1px;overflow: hidden;padding: 0;position: absolute;width: 1px;}#sk-container-id-2 div.sk-estimator {font-family: monospace;background-color: #f0f8ff;border: 1px dotted black;border-radius: 0.25em;box-sizing: border-box;margin-bottom: 0.5em;}#sk-container-id-2 div.sk-estimator:hover {background-color: #d4ebff;}#sk-container-id-2 div.sk-parallel-item::after {content: \"\";width: 100%;border-bottom: 1px solid gray;flex-grow: 1;}#sk-container-id-2 div.sk-label:hover label.sk-toggleable__label {background-color: #d4ebff;}#sk-container-id-2 div.sk-serial::before {content: \"\";position: absolute;border-left: 1px solid gray;box-sizing: border-box;top: 0;bottom: 0;left: 50%;z-index: 0;}#sk-container-id-2 div.sk-serial {display: flex;flex-direction: column;align-items: center;background-color: white;padding-right: 0.2em;padding-left: 0.2em;position: relative;}#sk-container-id-2 div.sk-item {position: relative;z-index: 1;}#sk-container-id-2 div.sk-parallel {display: flex;align-items: stretch;justify-content: center;background-color: white;position: relative;}#sk-container-id-2 div.sk-item::before, #sk-container-id-2 div.sk-parallel-item::before {content: \"\";position: absolute;border-left: 1px solid gray;box-sizing: border-box;top: 0;bottom: 0;left: 50%;z-index: -1;}#sk-container-id-2 div.sk-parallel-item {display: flex;flex-direction: column;z-index: 1;position: relative;background-color: white;}#sk-container-id-2 div.sk-parallel-item:first-child::after {align-self: flex-end;width: 50%;}#sk-container-id-2 div.sk-parallel-item:last-child::after {align-self: flex-start;width: 50%;}#sk-container-id-2 div.sk-parallel-item:only-child::after {width: 0;}#sk-container-id-2 div.sk-dashed-wrapped {border: 1px dashed gray;margin: 0 0.4em 0.5em 0.4em;box-sizing: border-box;padding-bottom: 0.4em;background-color: white;}#sk-container-id-2 div.sk-label label {font-family: monospace;font-weight: bold;display: inline-block;line-height: 1.2em;}#sk-container-id-2 div.sk-label-container {text-align: center;}#sk-container-id-2 div.sk-container {/* jupyter's `normalize.less` sets `[hidden] { display: none; }` but bootstrap.min.css set `[hidden] { display: none !important; }` so we also need the `!important` here to be able to override the default hidden behavior on the sphinx rendered scikit-learn.org. See: https://github.com/scikit-learn/scikit-learn/issues/21755 */display: inline-block !important;position: relative;}#sk-container-id-2 div.sk-text-repr-fallback {display: none;}</style><div id=\"sk-container-id-2\" class=\"sk-top-container\"><div class=\"sk-text-repr-fallback\"><pre>RandomizedSearchCV(cv=4, estimator=GradientBoostingRegressor(n_estimators=900),\n",
       "                   n_iter=100, n_jobs=-1,\n",
       "                   param_distributions={&#x27;learning_rate&#x27;: [0.01, 0.1, 0.2,\n",
       "                                                          0.001],\n",
       "                                        &#x27;max_depth&#x27;: [3, 4, 5, 7, 9],\n",
       "                                        &#x27;min_samples_leaf&#x27;: [1, 2, 5, 7],\n",
       "                                        &#x27;min_samples_split&#x27;: [2, 5, 10, 12],\n",
       "                                        &#x27;n_estimators&#x27;: [100, 200, 300, 500],\n",
       "                                        &#x27;subsample&#x27;: [0.7, 0.8, 0.9, 1.0]},\n",
       "                   random_state=42, scoring=&#x27;neg_mean_squared_error&#x27;,\n",
       "                   verbose=2)</pre><b>In a Jupyter environment, please rerun this cell to show the HTML representation or trust the notebook. <br />On GitHub, the HTML representation is unable to render, please try loading this page with nbviewer.org.</b></div><div class=\"sk-container\" hidden><div class=\"sk-item sk-dashed-wrapped\"><div class=\"sk-label-container\"><div class=\"sk-label sk-toggleable\"><input class=\"sk-toggleable__control sk-hidden--visually\" id=\"sk-estimator-id-4\" type=\"checkbox\" ><label for=\"sk-estimator-id-4\" class=\"sk-toggleable__label sk-toggleable__label-arrow\">RandomizedSearchCV</label><div class=\"sk-toggleable__content\"><pre>RandomizedSearchCV(cv=4, estimator=GradientBoostingRegressor(n_estimators=900),\n",
       "                   n_iter=100, n_jobs=-1,\n",
       "                   param_distributions={&#x27;learning_rate&#x27;: [0.01, 0.1, 0.2,\n",
       "                                                          0.001],\n",
       "                                        &#x27;max_depth&#x27;: [3, 4, 5, 7, 9],\n",
       "                                        &#x27;min_samples_leaf&#x27;: [1, 2, 5, 7],\n",
       "                                        &#x27;min_samples_split&#x27;: [2, 5, 10, 12],\n",
       "                                        &#x27;n_estimators&#x27;: [100, 200, 300, 500],\n",
       "                                        &#x27;subsample&#x27;: [0.7, 0.8, 0.9, 1.0]},\n",
       "                   random_state=42, scoring=&#x27;neg_mean_squared_error&#x27;,\n",
       "                   verbose=2)</pre></div></div></div><div class=\"sk-parallel\"><div class=\"sk-parallel-item\"><div class=\"sk-item\"><div class=\"sk-label-container\"><div class=\"sk-label sk-toggleable\"><input class=\"sk-toggleable__control sk-hidden--visually\" id=\"sk-estimator-id-5\" type=\"checkbox\" ><label for=\"sk-estimator-id-5\" class=\"sk-toggleable__label sk-toggleable__label-arrow\">estimator: GradientBoostingRegressor</label><div class=\"sk-toggleable__content\"><pre>GradientBoostingRegressor(n_estimators=900)</pre></div></div></div><div class=\"sk-serial\"><div class=\"sk-item\"><div class=\"sk-estimator sk-toggleable\"><input class=\"sk-toggleable__control sk-hidden--visually\" id=\"sk-estimator-id-6\" type=\"checkbox\" ><label for=\"sk-estimator-id-6\" class=\"sk-toggleable__label sk-toggleable__label-arrow\">GradientBoostingRegressor</label><div class=\"sk-toggleable__content\"><pre>GradientBoostingRegressor(n_estimators=900)</pre></div></div></div></div></div></div></div></div></div></div>"
      ],
      "text/plain": [
       "RandomizedSearchCV(cv=4, estimator=GradientBoostingRegressor(n_estimators=900),\n",
       "                   n_iter=100, n_jobs=-1,\n",
       "                   param_distributions={'learning_rate': [0.01, 0.1, 0.2,\n",
       "                                                          0.001],\n",
       "                                        'max_depth': [3, 4, 5, 7, 9],\n",
       "                                        'min_samples_leaf': [1, 2, 5, 7],\n",
       "                                        'min_samples_split': [2, 5, 10, 12],\n",
       "                                        'n_estimators': [100, 200, 300, 500],\n",
       "                                        'subsample': [0.7, 0.8, 0.9, 1.0]},\n",
       "                   random_state=42, scoring='neg_mean_squared_error',\n",
       "                   verbose=2)"
      ]
     },
     "execution_count": 110,
     "metadata": {},
     "output_type": "execute_result"
    }
   ],
   "source": [
    "random.fit(x_train, y_train)"
   ]
  },
  {
   "cell_type": "code",
   "execution_count": 111,
   "id": "641fba0f",
   "metadata": {},
   "outputs": [
    {
     "data": {
      "text/plain": [
       "{'subsample': 0.8,\n",
       " 'n_estimators': 500,\n",
       " 'min_samples_split': 12,\n",
       " 'min_samples_leaf': 2,\n",
       " 'max_depth': 9,\n",
       " 'learning_rate': 0.01}"
      ]
     },
     "execution_count": 111,
     "metadata": {},
     "output_type": "execute_result"
    }
   ],
   "source": [
    "random.best_params_"
   ]
  },
  {
   "cell_type": "code",
   "execution_count": 130,
   "id": "66f0b347",
   "metadata": {},
   "outputs": [],
   "source": [
    "from sklearn.ensemble import GradientBoostingRegressor\n",
    "gbr=GradientBoostingRegressor(n_estimators=300,\n",
    "                                         min_samples_split= 10,\n",
    "                                         min_samples_leaf= 4,\n",
    "                                         subsample=0.8,\n",
    "                                         learning_rate= 0.1,\n",
    "                                         max_depth= 5)\n",
    "gbr.fit(x_train,y_train)\n",
    "y_pred=gbr.predict(x_test)"
   ]
  },
  {
   "cell_type": "code",
   "execution_count": 131,
   "id": "94bb1143",
   "metadata": {},
   "outputs": [
    {
     "name": "stdout",
     "output_type": "stream",
     "text": [
      "3266640.357190491\n",
      "1181.165115491844\n",
      "34.3680828020977\n"
     ]
    }
   ],
   "source": [
    "# Finding MSE,MAE and RMSE\n",
    "from sklearn.metrics import mean_squared_error,mean_absolute_error,r2_score\n",
    "\n",
    "mse=mean_squared_error(y_test,y_pred)\n",
    "print(mse)\n",
    "\n",
    "mae=mean_absolute_error(y_test,y_pred)\n",
    "print(mae)\n",
    "\n",
    "import math\n",
    "rmse=math.sqrt(mae)\n",
    "print(rmse)"
   ]
  },
  {
   "cell_type": "code",
   "execution_count": 132,
   "id": "992f27d1",
   "metadata": {},
   "outputs": [
    {
     "data": {
      "text/plain": [
       "0.8415254368351028"
      ]
     },
     "execution_count": 132,
     "metadata": {},
     "output_type": "execute_result"
    }
   ],
   "source": [
    "# Finding r2 score\n",
    "\n",
    "gbr_score=r2_score(y_test,y_pred)\n",
    "gbr_score"
   ]
  },
  {
   "cell_type": "code",
   "execution_count": 133,
   "id": "c0780e4c",
   "metadata": {},
   "outputs": [
    {
     "data": {
      "text/plain": [
       "0.8403896327233966"
      ]
     },
     "execution_count": 133,
     "metadata": {},
     "output_type": "execute_result"
    }
   ],
   "source": [
    "# Finding adjusted r2 score\n",
    "\n",
    "adj_r2=1-(1-gbr_score)*(2671-1)/(2671-19-1)\n",
    "adj_r2"
   ]
  },
  {
   "cell_type": "markdown",
   "id": "c6270263",
   "metadata": {},
   "source": [
    "# 10. Model Comparison Report"
   ]
  },
  {
   "cell_type": "markdown",
   "id": "4d5635ae",
   "metadata": {},
   "source": [
    "## Comparison of the Best Models:"
   ]
  },
  {
   "cell_type": "code",
   "execution_count": 134,
   "id": "570663a9",
   "metadata": {},
   "outputs": [
    {
     "name": "stdout",
     "output_type": "stream",
     "text": [
      "The R2 score achieved using Linear Regression is: 0.4374945776704606 %\n",
      "The R2 score achieved using KNN is: 0.5949258052866712 %\n",
      "The R2 score achieved using Decision Tree is: 0.6946158676468317 %\n",
      "The R2 score achieved using Random Forest is: 0.816138568308748 %\n",
      "The R2 score achieved using Gradient Boosting is: 0.8415254368351028 %\n"
     ]
    }
   ],
   "source": [
    "scores = [lr_score,knn_score,dt_score,rf_score,gbr_score]\n",
    "algorithms = [\"Linear Regression\",\"KNN\",\"Decision Tree\",\"Random Forest\",\"Gradient Boosting\"]    \n",
    "\n",
    "for i in range(len(algorithms)):\n",
    "    print(\"The R2 score achieved using \"+algorithms[i]+\" is: \"+str(scores[i])+\" %\")"
   ]
  },
  {
   "cell_type": "markdown",
   "id": "c33455d0",
   "metadata": {},
   "source": [
    "### The performance percentage of each models has been stated below:\n",
    "\n",
    "* LinearRegressor : 0.43%\n",
    "\n",
    "* KNeighborsRegressor : 0.59%\n",
    "\n",
    "* DecisionTreeRegressor : 0.69%\n",
    "\n",
    "* RandomForestRegressor : 0.81%\n",
    "\n",
    "* GradientBoostingRegressor : 0.84%"
   ]
  },
  {
   "cell_type": "code",
   "execution_count": 135,
   "id": "c6bb1f15",
   "metadata": {},
   "outputs": [
    {
     "data": {
      "image/png": "[encoded data removed]",
      "text/plain": [
       "<Figure size 1000x600 with 1 Axes>"
      ]
     },
     "metadata": {},
     "output_type": "display_data"
    }
   ],
   "source": [
    "# graphical representation of model performance\n",
    "\n",
    "plt.figure(figsize=(10,6))\n",
    "plt.xlabel(\"Algorithms\")\n",
    "plt.ylabel(\"R2 score\")\n",
    "ax=sns.barplot(x=algorithms,y=scores)"
   ]
  },
  {
   "cell_type": "markdown",
   "id": "1bcb5d6c",
   "metadata": {},
   "source": [
    "# 11. Conclusion"
   ]
  },
  {
   "cell_type": "markdown",
   "id": "2074683f",
   "metadata": {},
   "source": [
    "### 1. Introduction:\n",
    "\n",
    " * This report presents the findings and evaluation of machine learning models applied to predict flight prices. \n",
    " \n",
    " * The primary objective was to develop accurate models that can assist in predicting flight prices based on various features     such as departure city, destination, airline, and departure time.\n",
    "\n",
    "### 2. Data Overview:\n",
    "\n",
    "\n",
    "* The dataset comprised information regarding airline, source,destination,date of journey , total stops etc.Preprocessing steps   includes handling missing values, encoding categorical variables, and handling outliers.\n",
    "\n",
    "### 3. Model Selection:\n",
    "\n",
    "* We experimented with multiple regression algorithms, including Linear Regression, KNN,Random Forest, and Gradient Boosting to   identify the most suitable model for predicting flight prices.\n",
    "\n",
    "### 4. Evaluation Metrics:\n",
    "\n",
    "* The performance of the models was evaluated using Mean Absolute Error (MAE) and Root Mean Squared Error (RMSE) metrics. These   metrics provide a clear understanding of the models' accuracy and ability to generalize to unseen data.\n",
    "\n",
    "### 5. Model Performance Summary:\n",
    "\n",
    "* The Gradient Boosting model demonstrated the highest accuracy in predicting flight prices, outperforming other models\n",
    "  The random forest model also plays an important role for predicting flight fare which has got 0.81 % accuracy\n"
   ]
  },
  {
   "cell_type": "markdown",
   "id": "f3ab7e35",
   "metadata": {},
   "source": [
    "# 12. Challenges faced:"
   ]
  },
  {
   "cell_type": "markdown",
   "id": "50289a03",
   "metadata": {},
   "source": [
    "The challenges that we faced during flight fare prediction using machine learning are as follows:\n",
    "\n",
    "### 1. Conversion of date and duration: \n",
    "\n",
    "   - Extracting day and month from date of journey column was a tough task and challenging since the model finds it difficult\n",
    "     to process thhe date format directly.\n",
    "\n",
    "   - Converting these into a format that the model can understand can be messy and require careful preprocessing. \n",
    "    \n",
    "   - At the same time , extracting hours and minutes from the duration column was a difficult task and it was solved by using        some functions in pandas and also using some simple logic.\n",
    "\n",
    "\n",
    "###  2. Feature Correlation: \n",
    "\n",
    "  - When dealing with a large number of columns or features, finding meaningful correlations between them can be challenging.\n",
    "\n",
    "  - Correlation analysis helps identify which features are strongly related to the target variable (flight fare in this case) \n",
    "    and which are not.\n",
    "\n",
    "  - However, for a large number of columns, this process can become complex and time-consuming.\n",
    "\n",
    "###  3. Hyperparameter Tuning:\n",
    "\n",
    "  - Hyperparameter tuning involves finding the best set of hyperparameters for a machine learning model to achieve optimal           performance. \n",
    "  \n",
    "  - This process often requires multiple iterations of training and evaluating the model with different hyperparameter               configurations.\n",
    "  \n",
    "  - It can be time-consuming because it involves a search in a high-dimensional space of hyperparameters, and each iteration         requires training the model, which can be computationally expensive\n",
    "  \n",
    "  - We used hyper parameter tuning in random forest and gradient boosting which took much time to run the code for training and\n",
    "    it is solved by making some small changes in the parameters\n"
   ]
  }
 ],
 "metadata": {
  "kernelspec": {
   "display_name": "Python 3 (ipykernel)",
   "language": "python",
   "name": "python3"
  },
  "language_info": {
   "codemirror_mode": {
    "name": "ipython",
    "version": 3
   },
   "file_extension": ".py",
   "mimetype": "text/x-python",
   "name": "python",
   "nbconvert_exporter": "python",
   "pygments_lexer": "ipython3",
   "version": "3.11.5"
  }
 },
 "nbformat": 4,
 "nbformat_minor": 5
}
